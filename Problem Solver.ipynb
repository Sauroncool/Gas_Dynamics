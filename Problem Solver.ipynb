{
 "cells": [
  {
   "metadata": {},
   "cell_type": "markdown",
   "source": "### Problem 3.13 and 3.14",
   "id": "ef0292caca29c341"
  },
  {
   "metadata": {
    "ExecuteTime": {
     "end_time": "2024-09-22T06:01:23.568168Z",
     "start_time": "2024-09-22T06:01:23.562457Z"
    }
   },
   "cell_type": "code",
   "source": "from math import sqrt",
   "id": "ea1a9a491877b04d",
   "outputs": [],
   "execution_count": 30
  },
  {
   "metadata": {
    "ExecuteTime": {
     "end_time": "2024-09-22T06:01:23.604100Z",
     "start_time": "2024-09-22T06:01:23.594300Z"
    }
   },
   "cell_type": "code",
   "source": [
    "gamma = 1.4 # Specific heat ratio\n",
    "R = 287 # Gas cnst."
   ],
   "id": "fbc18bbaa8c5d79a",
   "outputs": [],
   "execution_count": 31
  },
  {
   "metadata": {
    "ExecuteTime": {
     "end_time": "2024-09-22T06:01:23.642879Z",
     "start_time": "2024-09-22T06:01:23.626321Z"
    }
   },
   "cell_type": "code",
   "source": [
    "# Pressure ratio function for Rayleigh flow\n",
    "def P_ratio(M):\n",
    "    return (1 + gamma) / (1 + gamma * M**2)"
   ],
   "id": "b162728e86ff9333",
   "outputs": [],
   "execution_count": 32
  },
  {
   "metadata": {
    "ExecuteTime": {
     "end_time": "2024-09-22T06:01:23.652273Z",
     "start_time": "2024-09-22T06:01:23.642879Z"
    }
   },
   "cell_type": "code",
   "source": [
    "# Density ratio function for Rayleigh flow\n",
    "def rho_ratio(M):\n",
    "    return (1/M**2)*(1 + gamma * M**2) / (1 + gamma)"
   ],
   "id": "c11465d87f28c7dd",
   "outputs": [],
   "execution_count": 33
  },
  {
   "metadata": {
    "ExecuteTime": {
     "end_time": "2024-09-22T06:01:23.661802Z",
     "start_time": "2024-09-22T06:01:23.653143Z"
    }
   },
   "cell_type": "code",
   "source": [
    "# Total temperature ratio function for Rayleigh flow\n",
    "def T_0_ratio(M):\n",
    "    return ((gamma +1) * M**2 / ((1 + gamma * M**2))**2) * (2 + (gamma -1) * M**2)"
   ],
   "id": "8fb4f7b1c80a48aa",
   "outputs": [],
   "execution_count": 34
  },
  {
   "metadata": {
    "ExecuteTime": {
     "end_time": "2024-09-22T06:01:23.672340Z",
     "start_time": "2024-09-22T06:01:23.663606Z"
    }
   },
   "cell_type": "code",
   "source": [
    "# Total pressure ratio function for Rayleigh flow\n",
    "def P_0_ratio(M):\n",
    "    return ((1 + gamma) / (1 + gamma * M**2))* ((2 + (gamma -1)* M**2)/(gamma +1))**(gamma/(gamma-1))"
   ],
   "id": "1d4f66211675a133",
   "outputs": [],
   "execution_count": 35
  },
  {
   "metadata": {},
   "cell_type": "markdown",
   "source": "The Function to calculate M from $\\frac{T_0}{T_0^*}$",
   "id": "e7a846d1d0e8e9b1"
  },
  {
   "metadata": {
    "ExecuteTime": {
     "end_time": "2024-09-22T06:01:23.699990Z",
     "start_time": "2024-09-22T06:01:23.689870Z"
    }
   },
   "cell_type": "code",
   "source": [
    "def M_calculator(k,M1, gamma= gamma): # k = T0/T0_star\n",
    "    if M1 < 1:  # Subsonic Case\n",
    "        return sqrt(-k*gamma/(k*gamma**2 - gamma**2 + 1) - gamma*sqrt(1 - k)/(k*gamma**2 - gamma**2 + 1) + gamma/(k*gamma**2 - gamma**2 + 1) - sqrt(1 - k)/(k*gamma**2 - gamma**2 + 1) + 1/(k*gamma**2 - gamma**2 + 1))\n",
    "    \n",
    "    if M1 >1:   # Supersonic Case\n",
    "        return sqrt(-k*gamma/(k*gamma**2 - gamma**2 + 1) + gamma*sqrt(1 - k)/(k*gamma**2 - gamma**2 + 1) + gamma/(k*gamma**2 - gamma**2 + 1) + sqrt(1 - k)/(k*gamma**2 - gamma**2 + 1) + 1/(k*gamma**2 - gamma**2 + 1))"
   ],
   "id": "2153f02a75799a62",
   "outputs": [],
   "execution_count": 36
  },
  {
   "cell_type": "code",
   "id": "initial_id",
   "metadata": {
    "collapsed": true,
    "ExecuteTime": {
     "end_time": "2024-09-22T06:01:23.709833Z",
     "start_time": "2024-09-22T06:01:23.699990Z"
    }
   },
   "source": [
    "def rayleigh_solver(M1,T1,P1,q): # Units:- T1 (K), P1 (Pa), q (J /kg)\n",
    "    rho1 = P1/(R*T1)\n",
    "    T_0_1 = T1 *(1 + ((gamma -1)/2)* M1**2)\n",
    "    P_0_1 = (T_0_1 / T1)**(gamma/(gamma-1)) * P1\n",
    "    T_0_star = T_0_1 / T_0_ratio(M1)\n",
    "    T_0_2 = T_0_1 + q / ((gamma * R)/(gamma - 1))\n",
    "    M2 = M_calculator(T_0_2/T_0_star,M1)\n",
    "    P2 = (P_ratio(M2)/P_ratio(M1))*P1\n",
    "    T2 = T_0_2/ (1 + ((gamma -1)/2)* M2**2)\n",
    "    rho2 = (rho_ratio(M2)/rho_ratio(M1))*rho1\n",
    "    P_0_2 = (P_0_ratio(M2)/P_0_ratio(M1))*P_0_1\n",
    "    return M2, P2, T2, rho2,T_0_2, P_0_2\n",
    "    "
   ],
   "outputs": [],
   "execution_count": 37
  },
  {
   "metadata": {},
   "cell_type": "markdown",
   "source": "## Problem 3.13",
   "id": "77502c1dbedf2497"
  },
  {
   "metadata": {
    "ExecuteTime": {
     "end_time": "2024-09-22T06:01:23.720105Z",
     "start_time": "2024-09-22T06:01:23.709833Z"
    }
   },
   "cell_type": "code",
   "source": [
    "M2, P2, T2, rho2, T_0_2, P_0_2 = rayleigh_solver(M1=0.2,T1=273,P1 =1*101325, q =1e6)\n",
    "print(f\"Results:\")\n",
    "print(f\"Mach number at station 2 (M2): {M2:.2f}\")\n",
    "print(f\"Pressure at station 2 (P2): {P2/101325:.3f} atm\")\n",
    "print(f\"Temperature at station 2 (T2): {T2:.3f} K\")\n",
    "print(f\"Density at station 2 (rho2): {rho2:.3f} kg/m^3\")\n",
    "print(f\"Total temperature at station 2 (T_0_2): {T_0_2:.3f} K\")\n",
    "print(f\"Total pressure at station 2 (P_0_2): {P_0_2/101325:.3f} atm\")"
   ],
   "id": "f8f8fedc90f87af4",
   "outputs": [
    {
     "name": "stdout",
     "output_type": "stream",
     "text": [
      "Results:\n",
      "Mach number at station 2 (M2): 0.58\n",
      "Pressure at station 2 (P2): 0.715 atm\n",
      "Temperature at station 2 (T2): 1189.490 K\n",
      "Density at station 2 (rho2): 0.212 kg/m^3\n",
      "Total temperature at station 2 (T_0_2): 1270.704 K\n",
      "Total pressure at station 2 (P_0_2): 0.900 atm\n"
     ]
    }
   ],
   "execution_count": 38
  },
  {
   "metadata": {},
   "cell_type": "markdown",
   "source": "## Problem 3.14",
   "id": "5fcd0978e50d4bdb"
  },
  {
   "metadata": {
    "ExecuteTime": {
     "end_time": "2024-09-22T06:01:23.734276Z",
     "start_time": "2024-09-22T06:01:23.725023Z"
    }
   },
   "cell_type": "code",
   "source": [
    "M2, P2, T2, rho2, T_0_2, P_0_2 = rayleigh_solver(M1=3,T1=300,P1=1*101325,q=3e5)\n",
    "print(f\"Results:\")\n",
    "print(f\"Mach number at station 2 (M2): {M2:.2f}\")\n",
    "print(f\"Pressure at station 2 (P2): {P2/101325:.3f} atm\")\n",
    "print(f\"Temperature at station 2 (T2): {T2:.3f} K\")\n",
    "print(f\"Density at station 2 (rho2): {rho2:.3f} kg/m^3\")\n",
    "print(f\"Total temperature at station 2 (T_0_2): {T_0_2:.3f} K\")\n",
    "print(f\"Total pressure at station 2 (P_0_2): {P_0_2/101325:.3f} atm\")"
   ],
   "id": "e397f51eba74ae5b",
   "outputs": [
    {
     "name": "stdout",
     "output_type": "stream",
     "text": [
      "Results:\n",
      "Mach number at station 2 (M2): 1.59\n",
      "Pressure at station 2 (P2): 2.994 atm\n",
      "Temperature at station 2 (T2): 756.040 K\n",
      "Density at station 2 (rho2): 1.398 kg/m^3\n",
      "Total temperature at station 2 (T_0_2): 1138.656 K\n",
      "Total pressure at station 2 (P_0_2): 12.552 atm\n"
     ]
    }
   ],
   "execution_count": 39
  }
 ],
 "metadata": {
  "kernelspec": {
   "display_name": "Python 3",
   "language": "python",
   "name": "python3"
  },
  "language_info": {
   "codemirror_mode": {
    "name": "ipython",
    "version": 2
   },
   "file_extension": ".py",
   "mimetype": "text/x-python",
   "name": "python",
   "nbconvert_exporter": "python",
   "pygments_lexer": "ipython2",
   "version": "2.7.6"
  }
 },
 "nbformat": 4,
 "nbformat_minor": 5
}
