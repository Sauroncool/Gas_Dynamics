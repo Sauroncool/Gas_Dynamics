{
 "cells": [
  {
   "cell_type": "code",
   "execution_count": 1,
   "metadata": {},
   "outputs": [],
   "source": [
    "using NLsolve"
   ]
  },
  {
   "cell_type": "code",
   "execution_count": 2,
   "metadata": {},
   "outputs": [
    {
     "data": {
      "text/plain": [
       "1.4"
      ]
     },
     "metadata": {},
     "output_type": "display_data"
    }
   ],
   "source": [
    "γ=1.4"
   ]
  },
  {
   "cell_type": "code",
   "execution_count": 3,
   "metadata": {},
   "outputs": [
    {
     "data": {
      "text/plain": [
       "nu_from_mach (generic function with 1 method)"
      ]
     },
     "metadata": {},
     "output_type": "display_data"
    }
   ],
   "source": [
    "# nu function in degrees\n",
    "function nu_from_mach(M)\n",
    "    return sqrt((γ + 1) / (γ - 1)) * atand(sqrt(((γ - 1) / (γ + 1)) * (M^2 - 1))) - atand(sqrt(M^2 - 1))\n",
    "end"
   ]
  },
  {
   "cell_type": "code",
   "execution_count": 4,
   "metadata": {},
   "outputs": [
    {
     "data": {
      "text/plain": [
       "mach_from_nu (generic function with 1 method)"
      ]
     },
     "metadata": {},
     "output_type": "display_data"
    }
   ],
   "source": [
    "# Function to compute Mach number from nu\n",
    "function mach_from_nu(nu_val)\n",
    "    result = nlsolve(M -> nu_val - nu_from_mach(M[1]), [3.0])\n",
    "    return result.zero[1]\n",
    "end"
   ]
  },
  {
   "cell_type": "code",
   "execution_count": 5,
   "metadata": {},
   "outputs": [
    {
     "data": {
      "text/plain": [
       "ratio_P0_P (generic function with 1 method)"
      ]
     },
     "metadata": {},
     "output_type": "display_data"
    }
   ],
   "source": [
    "# Pressure ratio function\n",
    "function ratio_P0_P(M)\n",
    "    return (1 + ((γ - 1) / 2) * M^2)^(γ / (γ - 1))\n",
    "end"
   ]
  },
  {
   "cell_type": "code",
   "execution_count": 6,
   "metadata": {},
   "outputs": [
    {
     "data": {
      "text/plain": [
       "46.41470777941413"
      ]
     },
     "metadata": {},
     "output_type": "display_data"
    }
   ],
   "source": [
    "# Initial values\n",
    "M1 = 2.6\n",
    "θ1 = 5  # in degrees\n",
    "\n",
    "# Compute nu2\n",
    "nu2 = nu_from_mach(M1) + θ1  # radians"
   ]
  },
  {
   "cell_type": "code",
   "execution_count": 7,
   "metadata": {},
   "outputs": [
    {
     "data": {
      "text/plain": [
       "2.8322924890653214"
      ]
     },
     "metadata": {},
     "output_type": "display_data"
    }
   ],
   "source": [
    "M2 = mach_from_nu(nu2)"
   ]
  },
  {
   "cell_type": "code",
   "execution_count": 8,
   "metadata": {},
   "outputs": [
    {
     "data": {
      "text/plain": [
       "0.6999509836036835"
      ]
     },
     "metadata": {},
     "output_type": "display_data"
    }
   ],
   "source": [
    "P2_P1 = ratio_P0_P(M1) / ratio_P0_P(M2)"
   ]
  },
  {
   "cell_type": "code",
   "execution_count": 9,
   "metadata": {},
   "outputs": [
    {
     "data": {
      "text/plain": [
       "theta_func (generic function with 1 method)"
      ]
     },
     "metadata": {},
     "output_type": "display_data"
    }
   ],
   "source": [
    "# theta function in degrees\n",
    "function theta_func(β, M)\n",
    "    return atand(2 / tand(β) * ((M^2 * sind(β)^2 - 1) / (M^2 * (γ + cosd(2 * β)) + 2)))\n",
    "end"
   ]
  },
  {
   "cell_type": "code",
   "execution_count": 10,
   "metadata": {},
   "outputs": [
    {
     "data": {
      "text/plain": [
       "find_beta (generic function with 1 method)"
      ]
     },
     "metadata": {},
     "output_type": "display_data"
    }
   ],
   "source": [
    "# Solve for beta (deflection angle) in degrees\n",
    "function find_beta(θ, M)\n",
    "    result = nlsolve(β -> θ - theta_func(β[1], M), [20.0])\n",
    "    return result.zero[1]\n",
    "end"
   ]
  },
  {
   "cell_type": "code",
   "execution_count": 11,
   "metadata": {},
   "outputs": [
    {
     "data": {
      "text/plain": [
       "NS (generic function with 1 method)"
      ]
     },
     "metadata": {},
     "output_type": "display_data"
    }
   ],
   "source": [
    "# Normal Shock Mach Relation\n",
    "function NS(M)\n",
    "    return sqrt((1 + ((γ - 1) / 2) * M^2) / (γ * M^2 - (γ - 1) / 2))\n",
    "end"
   ]
  },
  {
   "cell_type": "code",
   "execution_count": 12,
   "metadata": {},
   "outputs": [
    {
     "data": {
      "text/plain": [
       "P_ratio (generic function with 1 method)"
      ]
     },
     "metadata": {},
     "output_type": "display_data"
    }
   ],
   "source": [
    "# Normal Shock Pressure ratio\n",
    "function P_ratio(M)\n",
    "    return 1 + (2 * γ / (γ + 1)) * (M^2 - 1)\n",
    "end"
   ]
  },
  {
   "cell_type": "code",
   "execution_count": 13,
   "metadata": {},
   "outputs": [
    {
     "data": {
      "text/plain": [
       "26.41482914184023"
      ]
     },
     "metadata": {},
     "output_type": "display_data"
    }
   ],
   "source": [
    "β2 = find_beta(θ1, M1)"
   ]
  },
  {
   "cell_type": "code",
   "execution_count": 14,
   "metadata": {},
   "outputs": [
    {
     "data": {
      "text/plain": [
       "1.3941570248459896"
      ]
     },
     "metadata": {},
     "output_type": "display_data"
    }
   ],
   "source": [
    "M_N1 = M1 * sind(β2)  # Using sind instead of degrees-to-radians conversion\n",
    "M_N3 = NS(M_N1)\n",
    "M3 = M_N3 / sind(β2 - θ1)  # Using sind\n",
    "P3_P1 = P_ratio(M_N1)"
   ]
  },
  {
   "cell_type": "code",
   "execution_count": 15,
   "metadata": {},
   "outputs": [
    {
     "data": {
      "text/plain": [
       "0.14614631818868237"
      ]
     },
     "metadata": {},
     "output_type": "display_data"
    }
   ],
   "source": [
    "Cl = (2 / (γ * M1^2)) * (P3_P1 - P2_P1) * cosd(θ1)"
   ]
  },
  {
   "cell_type": "code",
   "execution_count": 16,
   "metadata": {},
   "outputs": [
    {
     "data": {
      "text/plain": [
       "0.01278614605756226"
      ]
     },
     "metadata": {},
     "output_type": "display_data"
    }
   ],
   "source": [
    "Cd = (2 / (γ * M1^2)) * (P3_P1 - P2_P1) * sind(θ1)"
   ]
  },
  {
   "cell_type": "code",
   "execution_count": 17,
   "metadata": {},
   "outputs": [
    {
     "data": {
      "text/plain": [
       "0.0026771436446359873"
      ]
     },
     "metadata": {},
     "output_type": "display_data"
    }
   ],
   "source": [
    "function find_phi(φ)\n",
    "    # Convert φ to a scalar since it's an array input from nlsolve\n",
    "    φ_value = φ[1]\n",
    "\n",
    "    # Region 42\n",
    "    β42 = find_beta(θ1 + φ_value, M2)\n",
    "    M_N42 = NS(M2 * sind(β42) )  # Compute normal Mach numbers directly\n",
    "    P42_P2 = P_ratio(M2 * sind(β42))\n",
    "    M4 = M_N42 / sind(β42 - (θ1 + φ_value))\n",
    "\n",
    "    # Region 43\n",
    "    ν43 = nu_from_mach(M3) + θ1 + φ_value\n",
    "    M43 = mach_from_nu(ν43)\n",
    "    P43_P3 = ratio_P0_P(M3) / ratio_P0_P(M43)\n",
    "\n",
    "    return P42_P2 * P2_P1 - P43_P3 * P3_P1\n",
    "end\n",
    "\n",
    "# Initial guess for φ\n",
    "φ_initial_guess = [0.5]\n",
    "\n",
    "# Solve for φ using nlsolve\n",
    "result_phi = nlsolve(find_phi, φ_initial_guess)\n",
    "φ_solution = result_phi.zero[1]\n"
   ]
  }
 ],
 "metadata": {
  "kernelspec": {
   "display_name": "Julia 1.10.4",
   "language": "julia",
   "name": "julia-1.10"
  },
  "language_info": {
   "file_extension": ".jl",
   "mimetype": "application/julia",
   "name": "julia",
   "version": "1.10.4"
  }
 },
 "nbformat": 4,
 "nbformat_minor": 2
}
