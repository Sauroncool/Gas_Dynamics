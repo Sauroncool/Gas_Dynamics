{
 "cells": [
  {
   "cell_type": "code",
   "execution_count": 212,
   "metadata": {},
   "outputs": [],
   "source": [
    "using NLsolve"
   ]
  },
  {
   "cell_type": "code",
   "execution_count": 213,
   "metadata": {},
   "outputs": [],
   "source": [
    "γ=1.4;"
   ]
  },
  {
   "cell_type": "markdown",
   "metadata": {},
   "source": [
    "Prandtl Meyer Expansion"
   ]
  },
  {
   "cell_type": "code",
   "execution_count": 214,
   "metadata": {},
   "outputs": [],
   "source": [
    "# nu function\n",
    "function nu_from_mach(M)\n",
    "    return sqrt((γ + 1) / (γ - 1)) * atand(sqrt(((γ - 1) / (γ + 1)) * (M^2 - 1))) - atand(sqrt(M^2 - 1))\n",
    "end;"
   ]
  },
  {
   "cell_type": "code",
   "execution_count": 215,
   "metadata": {},
   "outputs": [],
   "source": [
    "# Function to compute Mach number from nu\n",
    "function mach_from_nu(nu_val)\n",
    "    result = nlsolve(M -> nu_val - nu_from_mach(M[1]), [3.0])\n",
    "    return result.zero[1]\n",
    "end;"
   ]
  },
  {
   "cell_type": "code",
   "execution_count": 216,
   "metadata": {},
   "outputs": [],
   "source": [
    "# Isentropic Pressure ratio function\n",
    "function ratio_P0_P(M)\n",
    "    return (1 + ((γ - 1) / 2) * M^2)^(γ / (γ - 1))\n",
    "end;"
   ]
  },
  {
   "cell_type": "code",
   "execution_count": 217,
   "metadata": {},
   "outputs": [],
   "source": [
    "# Initial values\n",
    "M1 = 2.6\n",
    "θ1 = 5;"
   ]
  },
  {
   "cell_type": "code",
   "execution_count": 218,
   "metadata": {},
   "outputs": [
    {
     "data": {
      "text/plain": [
       "41.41470777941413"
      ]
     },
     "metadata": {},
     "output_type": "display_data"
    }
   ],
   "source": [
    "\n",
    "ν1 = nu_from_mach(M1)"
   ]
  },
  {
   "cell_type": "code",
   "execution_count": 219,
   "metadata": {},
   "outputs": [
    {
     "data": {
      "text/plain": [
       "46.41470777941413"
      ]
     },
     "metadata": {},
     "output_type": "display_data"
    }
   ],
   "source": [
    "\n",
    "# Compute ν2\n",
    "ν2 = ν1 + θ1"
   ]
  },
  {
   "cell_type": "code",
   "execution_count": 220,
   "metadata": {},
   "outputs": [
    {
     "data": {
      "text/plain": [
       "2.8322924890653214"
      ]
     },
     "metadata": {},
     "output_type": "display_data"
    }
   ],
   "source": [
    "M2 = mach_from_nu(ν2)"
   ]
  },
  {
   "cell_type": "code",
   "execution_count": 221,
   "metadata": {},
   "outputs": [
    {
     "data": {
      "text/plain": [
       "0.6999509836036835"
      ]
     },
     "metadata": {},
     "output_type": "display_data"
    }
   ],
   "source": [
    "P2_P1 = ratio_P0_P(M1) / ratio_P0_P(M2)"
   ]
  },
  {
   "cell_type": "markdown",
   "metadata": {},
   "source": [
    "Oblique Shock"
   ]
  },
  {
   "cell_type": "code",
   "execution_count": 222,
   "metadata": {},
   "outputs": [],
   "source": [
    "# theta function\n",
    "function theta_func(β, M)\n",
    "    return atand(2 / tand(β) * ((M^2 * sind(β)^2 - 1) / (M^2 * (γ + cosd(2 * β)) + 2)))\n",
    "end;"
   ]
  },
  {
   "cell_type": "code",
   "execution_count": 223,
   "metadata": {},
   "outputs": [],
   "source": [
    "# Solve for beta\n",
    "function find_beta(θ, M)\n",
    "    result = nlsolve(β -> θ - theta_func(β[1], M), [20.0])\n",
    "    return result.zero[1]\n",
    "end;"
   ]
  },
  {
   "cell_type": "code",
   "execution_count": 224,
   "metadata": {},
   "outputs": [],
   "source": [
    "# Normal Shock Mach Relation\n",
    "function NS(M)\n",
    "    return sqrt((1 + ((γ - 1) / 2) * M^2) / (γ * M^2 - (γ - 1) / 2))\n",
    "end;"
   ]
  },
  {
   "cell_type": "code",
   "execution_count": 225,
   "metadata": {},
   "outputs": [],
   "source": [
    "# Normal Shock Pressure ratio\n",
    "function P_ratio(M)\n",
    "    return 1 + (2 * γ / (γ + 1)) * (M^2 - 1)\n",
    "end;"
   ]
  },
  {
   "cell_type": "code",
   "execution_count": 226,
   "metadata": {},
   "outputs": [
    {
     "data": {
      "text/plain": [
       "26.41482914184023"
      ]
     },
     "metadata": {},
     "output_type": "display_data"
    }
   ],
   "source": [
    "β2 = find_beta(θ1, M1)"
   ]
  },
  {
   "cell_type": "code",
   "execution_count": 227,
   "metadata": {},
   "outputs": [
    {
     "data": {
      "text/plain": [
       "1.3941570248459896"
      ]
     },
     "metadata": {},
     "output_type": "display_data"
    }
   ],
   "source": [
    "M_N1 = M1 * sind(β2)\n",
    "M_N3 = NS(M_N1)\n",
    "M3 = M_N3 / sind(β2 - θ1)\n",
    "P3_P1 = P_ratio(M_N1)"
   ]
  },
  {
   "cell_type": "code",
   "execution_count": 228,
   "metadata": {},
   "outputs": [
    {
     "data": {
      "text/plain": [
       "0.14614631818868237"
      ]
     },
     "metadata": {},
     "output_type": "display_data"
    }
   ],
   "source": [
    "Cl = (2 / (γ * M1^2)) * (P3_P1 - P2_P1) * cosd(θ1)"
   ]
  },
  {
   "cell_type": "code",
   "execution_count": 229,
   "metadata": {},
   "outputs": [
    {
     "data": {
      "text/plain": [
       "0.01278614605756226"
      ]
     },
     "metadata": {},
     "output_type": "display_data"
    }
   ],
   "source": [
    "Cd = (2 / (γ * M1^2)) * (P3_P1 - P2_P1) * sind(θ1)"
   ]
  },
  {
   "cell_type": "code",
   "execution_count": 230,
   "metadata": {},
   "outputs": [],
   "source": [
    "function find_phi(φ)\n",
    "    # Convert φ to a scalar since it's an array input from nlsolve\n",
    "    φ_value = φ[1]\n",
    "\n",
    "    # Region 42\n",
    "    β42 = find_beta(θ1 + φ_value, M2)\n",
    "    M_N42 = NS(M2 * sind(β42) )  # Compute normal Mach numbers directly\n",
    "    P42_P2 = P_ratio(M2 * sind(β42))\n",
    "    M4 = M_N42 / sind(β42 - (θ1 + φ_value))\n",
    "\n",
    "    # Region 43\n",
    "    ν43 = nu_from_mach(M3) + θ1 + φ_value\n",
    "    M43 = mach_from_nu(ν43)\n",
    "    P43_P3 = ratio_P0_P(M3) / ratio_P0_P(M43)\n",
    "\n",
    "    return P42_P2 * P2_P1 - P43_P3 * P3_P1\n",
    "end;"
   ]
  },
  {
   "cell_type": "code",
   "execution_count": 231,
   "metadata": {},
   "outputs": [
    {
     "data": {
      "text/plain": [
       "0.0026771436446359873"
      ]
     },
     "metadata": {},
     "output_type": "display_data"
    }
   ],
   "source": [
    "# Initial guess for φ\n",
    "φ_initial_guess = [0.5]\n",
    "\n",
    "# Solve for φ using nlsolve\n",
    "result_phi = nlsolve(find_phi, φ_initial_guess)\n",
    "φ_solution = result_phi.zero[1]"
   ]
  }
 ],
 "metadata": {
  "kernelspec": {
   "display_name": "Julia 1.10.4",
   "language": "julia",
   "name": "julia-1.10"
  },
  "language_info": {
   "file_extension": ".jl",
   "mimetype": "application/julia",
   "name": "julia",
   "version": "1.10.4"
  }
 },
 "nbformat": 4,
 "nbformat_minor": 2
}
