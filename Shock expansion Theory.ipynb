{
 "cells": [
  {
   "cell_type": "code",
   "id": "initial_id",
   "metadata": {
    "collapsed": true,
    "ExecuteTime": {
     "end_time": "2024-10-12T20:18:33.095887Z",
     "start_time": "2024-10-12T20:18:33.062714Z"
    }
   },
   "source": [
    "import numpy as np\n",
    "from scipy.optimize import fsolve"
   ],
   "outputs": [],
   "execution_count": 19
  },
  {
   "metadata": {
    "ExecuteTime": {
     "end_time": "2024-10-12T20:18:33.118483Z",
     "start_time": "2024-10-12T20:18:33.099866Z"
    }
   },
   "cell_type": "code",
   "source": "gamma = 1.4",
   "id": "31ef19b940e8782e",
   "outputs": [],
   "execution_count": 20
  },
  {
   "metadata": {},
   "cell_type": "markdown",
   "source": "Prandtl Meyer Expansion",
   "id": "833784cf85551420"
  },
  {
   "metadata": {
    "ExecuteTime": {
     "end_time": "2024-10-12T20:18:33.135844Z",
     "start_time": "2024-10-12T20:18:33.118483Z"
    }
   },
   "cell_type": "code",
   "source": [
    "def nu(M): # output: radians\n",
    "    return np.sqrt((gamma + 1) / (gamma - 1)) * np.arctan(\n",
    "        np.sqrt(((gamma - 1) / (gamma + 1)) * (M ** 2 - 1))\n",
    "    ) - np.arctan(np.sqrt(M ** 2 - 1))"
   ],
   "id": "7334771d61edebc",
   "outputs": [],
   "execution_count": 21
  },
  {
   "metadata": {
    "ExecuteTime": {
     "end_time": "2024-10-12T20:18:33.164342Z",
     "start_time": "2024-10-12T20:18:33.142876Z"
    }
   },
   "cell_type": "code",
   "source": [
    "# Function to solve for Mach Number from nu value\n",
    "def mach_from_nu(nu_val): # Input:radians\n",
    "    def func_for_fsolve(M,nu_val):\n",
    "        return nu_val - nu(M)\n",
    "    M_init_guess = 3\n",
    "    M_solution = fsolve(func_for_fsolve,M_init_guess,args=(nu_val,))\n",
    "    return M_solution[0]"
   ],
   "id": "526db81714513c17",
   "outputs": [],
   "execution_count": 22
  },
  {
   "metadata": {
    "ExecuteTime": {
     "end_time": "2024-10-12T20:18:33.179325Z",
     "start_time": "2024-10-12T20:18:33.174351Z"
    }
   },
   "cell_type": "code",
   "source": [
    "def ratio_P0_P(M): # Isentropic P0/P ratio\n",
    "    return (1 + ((gamma - 1)/2) * M ** 2)**(gamma/(gamma - 1))"
   ],
   "id": "8c139ec78b34b446",
   "outputs": [],
   "execution_count": 23
  },
  {
   "metadata": {
    "ExecuteTime": {
     "end_time": "2024-10-12T20:18:33.206559Z",
     "start_time": "2024-10-12T20:18:33.190397Z"
    }
   },
   "cell_type": "code",
   "source": [
    "# Initial values\n",
    "M1 = 2.6\n",
    "theta1 = 5  # in degrees\n",
    "\n",
    "# Compute nu2\n",
    "nu2 = nu(M1) + theta1 * np.pi / 180 # radians"
   ],
   "id": "8d82119b36a16c81",
   "outputs": [],
   "execution_count": 24
  },
  {
   "metadata": {
    "ExecuteTime": {
     "end_time": "2024-10-12T20:18:33.220603Z",
     "start_time": "2024-10-12T20:18:33.206559Z"
    }
   },
   "cell_type": "code",
   "source": [
    "M2 = mach_from_nu(nu2)\n",
    "print(M2)"
   ],
   "id": "18b9790e0d428ff1",
   "outputs": [
    {
     "name": "stdout",
     "output_type": "stream",
     "text": [
      "2.8322924890720786\n"
     ]
    }
   ],
   "execution_count": 25
  },
  {
   "metadata": {
    "ExecuteTime": {
     "end_time": "2024-10-12T20:18:33.280722Z",
     "start_time": "2024-10-12T20:18:33.269593Z"
    }
   },
   "cell_type": "code",
   "source": [
    "P2_P1 = ratio_P0_P(M1)/ratio_P0_P(M2)\n",
    "print(P2_P1)"
   ],
   "id": "fcfd5fe67bd1056b",
   "outputs": [
    {
     "name": "stdout",
     "output_type": "stream",
     "text": [
      "0.6999509835964826\n"
     ]
    }
   ],
   "execution_count": 26
  },
  {
   "metadata": {},
   "cell_type": "markdown",
   "source": "Oblique Shock",
   "id": "c22ed5b3537817ee"
  },
  {
   "metadata": {
    "ExecuteTime": {
     "end_time": "2024-10-12T20:18:33.322012Z",
     "start_time": "2024-10-12T20:18:33.302098Z"
    }
   },
   "cell_type": "code",
   "source": [
    "def theta_func(beta, M): # output :radians\n",
    "    return np.arctan(2 / np.tan(beta) * ((M ** 2 * (np.sin(beta)) ** 2 - 1) /\n",
    "                                                (M ** 2 * (gamma + np.cos(2 * beta)) + 2)))"
   ],
   "id": "e9790ecef41a0fe9",
   "outputs": [],
   "execution_count": 27
  },
  {
   "metadata": {
    "ExecuteTime": {
     "end_time": "2024-10-12T20:18:33.362Z",
     "start_time": "2024-10-12T20:18:33.349602Z"
    }
   },
   "cell_type": "code",
   "source": [
    "def find_beta(theta_deg, M): # Needs input theta in degrees, Output:degrees\n",
    "    theta = theta_deg*np.pi/180  # Convert deflection angle to radians\n",
    "    \n",
    "    def func_for_fsolve(beta, theta, M):\n",
    "        return theta - theta_func(beta, M)\n",
    "    beta_initial_guess = np.radians(20)  # Initial guess for beta in radians\n",
    "\n",
    "    # Solve for beta using fsolve\n",
    "    beta_solution = fsolve(func_for_fsolve, beta_initial_guess, args=(theta, M))\n",
    "\n",
    "    # Convert beta to degrees\n",
    "    beta_deg = np.degrees(beta_solution[0])\n",
    "\n",
    "    return beta_deg"
   ],
   "id": "4ade9a4f6d42c133",
   "outputs": [],
   "execution_count": 28
  },
  {
   "metadata": {
    "ExecuteTime": {
     "end_time": "2024-10-12T20:18:33.390404Z",
     "start_time": "2024-10-12T20:18:33.382137Z"
    }
   },
   "cell_type": "code",
   "source": [
    "def NS(M): # Normal Shock Mach Relation\n",
    "    return ((1 + ((gamma - 1) / 2) * M ** 2)/(gamma * M ** 2 - (gamma - 1) / 2))**0.5"
   ],
   "id": "558ca264f692ec28",
   "outputs": [],
   "execution_count": 29
  },
  {
   "metadata": {
    "ExecuteTime": {
     "end_time": "2024-10-12T20:18:33.420765Z",
     "start_time": "2024-10-12T20:18:33.413565Z"
    }
   },
   "cell_type": "code",
   "source": [
    "def P_ratio(M): # Normal Shock Pressure ratio \n",
    "    return  1+ (2*gamma/(gamma+1)) * (M**2 - 1)   "
   ],
   "id": "e2353f9c5bfc5171",
   "outputs": [],
   "execution_count": 30
  },
  {
   "metadata": {
    "ExecuteTime": {
     "end_time": "2024-10-12T20:18:33.488852Z",
     "start_time": "2024-10-12T20:18:33.460479Z"
    }
   },
   "cell_type": "code",
   "source": [
    "beta2 = find_beta(theta1, M1)\n",
    "M_N1 = M1 * np.sin(beta2*np.pi/180)\n",
    "M_N3 = NS(M_N1)\n",
    "M3 = M_N3 / np.sin((beta2-theta1)*np.pi/180)\n",
    "P3_P1 = P_ratio(M_N1)\n",
    "print(P3_P1)"
   ],
   "id": "5416f4a99c363264",
   "outputs": [
    {
     "name": "stdout",
     "output_type": "stream",
     "text": [
      "1.3941570248460025\n"
     ]
    }
   ],
   "execution_count": 31
  },
  {
   "metadata": {
    "ExecuteTime": {
     "end_time": "2024-10-12T20:18:33.526017Z",
     "start_time": "2024-10-12T20:18:33.515145Z"
    }
   },
   "cell_type": "code",
   "source": [
    "Cl = (2/(gamma*M1**2)) * (P3_P1 - P2_P1) * np.cos(theta1*np.pi/180)\n",
    "Cd = (2/(gamma*M1**2)) * (P3_P1 - P2_P1) * np.sin(theta1*np.pi/180)\n",
    "print(f\"Cl = {Cl:.4f}, Cd = {Cd:.4f}\")"
   ],
   "id": "6349c22d931f11c0",
   "outputs": [
    {
     "name": "stdout",
     "output_type": "stream",
     "text": [
      "Cl = 0.1461, Cd = 0.0128\n"
     ]
    }
   ],
   "execution_count": 32
  },
  {
   "metadata": {
    "ExecuteTime": {
     "end_time": "2024-10-12T20:18:33.583129Z",
     "start_time": "2024-10-12T20:18:33.562504Z"
    }
   },
   "cell_type": "code",
   "source": [
    "def find_phi(phi):\n",
    "\n",
    "  #Region 42\n",
    "  beta42 = find_beta(theta1+phi,M2) # degrees\n",
    "  M_N2 = M2 * np.sin(beta42*np.pi/180)\n",
    "  M_N42 = NS(M_N2)\n",
    "  M4 = M_N42 / np.sin((beta42 - (theta1+phi))*np.pi/180)\n",
    "  P42_P2 = P_ratio(M_N2)\n",
    "\n",
    "  #Region 43\n",
    "  nu43 = nu(M3) + (theta1 + phi)*np.pi/180 # radians\n",
    "  M43 = mach_from_nu(nu43)\n",
    "  P43_P3 = ratio_P0_P(M3)/ratio_P0_P(M43)\n",
    "\n",
    "  return P42_P2*P2_P1 - P43_P3*P3_P1"
   ],
   "id": "f648f79230d87344",
   "outputs": [],
   "execution_count": 33
  },
  {
   "metadata": {
    "ExecuteTime": {
     "end_time": "2024-10-12T20:18:33.616798Z",
     "start_time": "2024-10-12T20:18:33.591701Z"
    }
   },
   "cell_type": "code",
   "source": [
    "phi_initial_guess = 2\n",
    "phi = fsolve(find_phi, phi_initial_guess)[0]\n",
    "print(f\"Slip line angle (phi): {phi:.4f} degrees\")"
   ],
   "id": "83f20f8f7da736d4",
   "outputs": [
    {
     "name": "stdout",
     "output_type": "stream",
     "text": [
      "Slip line angle (phi): 0.0027 degrees\n"
     ]
    }
   ],
   "execution_count": 34
  },
  {
   "metadata": {},
   "cell_type": "markdown",
   "source": "Verification",
   "id": "e3c7bca194eec34d"
  },
  {
   "metadata": {
    "ExecuteTime": {
     "end_time": "2024-10-12T20:18:33.626579Z",
     "start_time": "2024-10-12T20:18:33.616798Z"
    }
   },
   "cell_type": "code",
   "source": [
    "beta42 = find_beta(theta1+phi,M2) # degrees\n",
    "M_N2 = M2 * np.sin(beta42*np.pi/180)\n",
    "M_N42 = NS(M_N2)\n",
    "M4 = M_N42 / np.sin((beta42 - (theta1+phi))*np.pi/180)\n",
    "P42_P2 = P_ratio(M_N2)\n",
    "P42_P2*P2_P1 "
   ],
   "id": "c9a2a1b9f2339f20",
   "outputs": [
    {
     "data": {
      "text/plain": [
       "0.9999688678688409"
      ]
     },
     "execution_count": 35,
     "metadata": {},
     "output_type": "execute_result"
    }
   ],
   "execution_count": 35
  },
  {
   "metadata": {
    "ExecuteTime": {
     "end_time": "2024-10-12T20:18:33.661599Z",
     "start_time": "2024-10-12T20:18:33.639598Z"
    }
   },
   "cell_type": "code",
   "source": [
    "nu43 = nu(M3) + (theta1 + phi)*np.pi/180 # radians\n",
    "M43 = mach_from_nu(nu43)\n",
    "P43_P3 = ratio_P0_P(M3)/ratio_P0_P(M43)\n",
    "P43_P3*P3_P1"
   ],
   "id": "6ac32b24d5d782be",
   "outputs": [
    {
     "data": {
      "text/plain": [
       "0.9999688678688412"
      ]
     },
     "execution_count": 36,
     "metadata": {},
     "output_type": "execute_result"
    }
   ],
   "execution_count": 36
  }
 ],
 "metadata": {
  "kernelspec": {
   "display_name": "Python 3",
   "language": "python",
   "name": "python3"
  },
  "language_info": {
   "codemirror_mode": {
    "name": "ipython",
    "version": 2
   },
   "file_extension": ".py",
   "mimetype": "text/x-python",
   "name": "python",
   "nbconvert_exporter": "python",
   "pygments_lexer": "ipython2",
   "version": "2.7.6"
  }
 },
 "nbformat": 4,
 "nbformat_minor": 5
}
