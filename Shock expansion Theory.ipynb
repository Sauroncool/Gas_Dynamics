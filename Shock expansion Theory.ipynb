{
 "cells": [
  {
   "cell_type": "code",
   "id": "initial_id",
   "metadata": {
    "collapsed": true,
    "ExecuteTime": {
     "end_time": "2024-10-10T16:46:49.614636Z",
     "start_time": "2024-10-10T16:46:49.608Z"
    }
   },
   "source": [
    "import numpy as np\n",
    "from scipy.optimize import fsolve"
   ],
   "outputs": [],
   "execution_count": 275
  },
  {
   "metadata": {
    "ExecuteTime": {
     "end_time": "2024-10-10T16:46:49.707701Z",
     "start_time": "2024-10-10T16:46:49.703498Z"
    }
   },
   "cell_type": "code",
   "source": "gamma = 1.4",
   "id": "31ef19b940e8782e",
   "outputs": [],
   "execution_count": 276
  },
  {
   "metadata": {
    "ExecuteTime": {
     "end_time": "2024-10-10T16:46:49.724497Z",
     "start_time": "2024-10-10T16:46:49.711173Z"
    }
   },
   "cell_type": "code",
   "source": [
    "def nu(M):\n",
    "    return np.sqrt((gamma + 1) / (gamma - 1)) * np.arctan(\n",
    "        np.sqrt(((gamma - 1) / (gamma + 1)) * (M ** 2 - 1))\n",
    "    ) - np.arctan(np.sqrt(M ** 2 - 1))"
   ],
   "id": "7334771d61edebc",
   "outputs": [],
   "execution_count": 277
  },
  {
   "metadata": {
    "ExecuteTime": {
     "end_time": "2024-10-10T16:46:49.730342Z",
     "start_time": "2024-10-10T16:46:49.724497Z"
    }
   },
   "cell_type": "code",
   "source": [
    "# Initial values\n",
    "M1 = 2.6\n",
    "theta1 = 5  # in degrees\n",
    "\n",
    "# Compute nu2\n",
    "nu2 = nu(M1) + theta1 * np.pi / 180"
   ],
   "id": "8d82119b36a16c81",
   "outputs": [],
   "execution_count": 278
  },
  {
   "metadata": {
    "ExecuteTime": {
     "end_time": "2024-10-10T16:46:49.737696Z",
     "start_time": "2024-10-10T16:46:49.730342Z"
    }
   },
   "cell_type": "code",
   "source": [
    "def func_for_fsolve(M,nu_val):\n",
    "    return nu_val - nu(M)"
   ],
   "id": "49ffdbd627c08045",
   "outputs": [],
   "execution_count": 279
  },
  {
   "metadata": {
    "ExecuteTime": {
     "end_time": "2024-10-10T16:46:49.746980Z",
     "start_time": "2024-10-10T16:46:49.739638Z"
    }
   },
   "cell_type": "code",
   "source": [
    "# Function to solve for M2\n",
    "def mach_from_nu(nu_val):\n",
    "    M_init_guess = 3\n",
    "    M_solution = fsolve(func_for_fsolve,M_init_guess,args=(nu_val,))\n",
    "    return M_solution[0]"
   ],
   "id": "53e312a3947be789",
   "outputs": [],
   "execution_count": 280
  },
  {
   "metadata": {
    "ExecuteTime": {
     "end_time": "2024-10-10T16:46:49.773959Z",
     "start_time": "2024-10-10T16:46:49.766787Z"
    }
   },
   "cell_type": "code",
   "source": [
    "M2 = mach_from_nu(nu2)\n",
    "print(M2)"
   ],
   "id": "18b9790e0d428ff1",
   "outputs": [
    {
     "name": "stdout",
     "output_type": "stream",
     "text": [
      "2.8322924890720786\n"
     ]
    }
   ],
   "execution_count": 281
  },
  {
   "metadata": {
    "ExecuteTime": {
     "end_time": "2024-10-10T16:46:49.798059Z",
     "start_time": "2024-10-10T16:46:49.783018Z"
    }
   },
   "cell_type": "code",
   "source": [
    "def ratio_P0_P(M):\n",
    "    return (1 + (gamma - 1) * M ** 2 /2)**(gamma/(gamma - 1))"
   ],
   "id": "b3e7284a9ef75bea",
   "outputs": [],
   "execution_count": 282
  },
  {
   "metadata": {
    "ExecuteTime": {
     "end_time": "2024-10-10T16:46:49.811174Z",
     "start_time": "2024-10-10T16:46:49.798059Z"
    }
   },
   "cell_type": "code",
   "source": [
    "P2_P1 = ratio_P0_P(M1)/ratio_P0_P(M2)\n",
    "print(P2_P1)"
   ],
   "id": "fcfd5fe67bd1056b",
   "outputs": [
    {
     "name": "stdout",
     "output_type": "stream",
     "text": [
      "0.6999509835964826\n"
     ]
    }
   ],
   "execution_count": 283
  },
  {
   "metadata": {},
   "cell_type": "markdown",
   "source": "Oblique Shock",
   "id": "c22ed5b3537817ee"
  },
  {
   "metadata": {
    "ExecuteTime": {
     "end_time": "2024-10-10T16:46:49.834479Z",
     "start_time": "2024-10-10T16:46:49.830765Z"
    }
   },
   "cell_type": "code",
   "source": [
    "def theta_func(beta, M):\n",
    "    return np.arctan(2 / np.tan(beta) * ((M ** 2 * (np.sin(beta)) ** 2 - 1) /\n",
    "                                                (M ** 2 * (gamma + np.cos(2 * beta)) + 2)))"
   ],
   "id": "e9790ecef41a0fe9",
   "outputs": [],
   "execution_count": 284
  },
  {
   "metadata": {
    "ExecuteTime": {
     "end_time": "2024-10-10T16:46:49.849216Z",
     "start_time": "2024-10-10T16:46:49.845330Z"
    }
   },
   "cell_type": "code",
   "source": [
    "def func_for_fsolve(beta, theta, M):\n",
    "    return theta - theta_func(beta, M)"
   ],
   "id": "b4e3b71849fce097",
   "outputs": [],
   "execution_count": 285
  },
  {
   "metadata": {
    "ExecuteTime": {
     "end_time": "2024-10-10T16:46:49.858418Z",
     "start_time": "2024-10-10T16:46:49.849216Z"
    }
   },
   "cell_type": "code",
   "source": [
    "def find_beta(theta_deg, M):\n",
    "    theta = np.radians(theta_deg)  # Convert deflection angle to radians\n",
    "    beta_initial_guess = np.radians(20)  # Initial guess for beta in radians\n",
    "\n",
    "    # Solve for beta using fsolve\n",
    "    beta_solution = fsolve(func_for_fsolve, beta_initial_guess, args=(theta, M))\n",
    "\n",
    "    # Convert beta to degrees\n",
    "    beta_deg = np.degrees(beta_solution[0])\n",
    "\n",
    "    return beta_deg"
   ],
   "id": "4ade9a4f6d42c133",
   "outputs": [],
   "execution_count": 286
  },
  {
   "metadata": {
    "ExecuteTime": {
     "end_time": "2024-10-10T16:46:49.867379Z",
     "start_time": "2024-10-10T16:46:49.862317Z"
    }
   },
   "cell_type": "code",
   "source": [
    "def NS(M): # Normal Shock Mach Relation\n",
    "    return ((1 + ((gamma - 1) / 2) * M ** 2)/(gamma * M ** 2 - (gamma - 1) / 2))**0.5"
   ],
   "id": "558ca264f692ec28",
   "outputs": [],
   "execution_count": 287
  },
  {
   "metadata": {
    "ExecuteTime": {
     "end_time": "2024-10-10T16:46:49.876468Z",
     "start_time": "2024-10-10T16:46:49.867884Z"
    }
   },
   "cell_type": "code",
   "source": [
    "def P_ratio(M): # Normal Shock Pressure ratio \n",
    "    return  1+ ((2*gamma)/(gamma+1)) * (M**2 - 1)   "
   ],
   "id": "e2353f9c5bfc5171",
   "outputs": [],
   "execution_count": 288
  },
  {
   "metadata": {
    "ExecuteTime": {
     "end_time": "2024-10-10T16:46:49.918542Z",
     "start_time": "2024-10-10T16:46:49.911241Z"
    }
   },
   "cell_type": "code",
   "source": [
    "beta2 = find_beta(theta1, M1)\n",
    "M_N1 = M1 * np.sin(beta2*np.pi/180)\n",
    "P3_P1 = P_ratio(M_N1)\n",
    "print(P3_P1)"
   ],
   "id": "5416f4a99c363264",
   "outputs": [
    {
     "name": "stdout",
     "output_type": "stream",
     "text": [
      "1.3941570248460025\n"
     ]
    }
   ],
   "execution_count": 289
  },
  {
   "metadata": {
    "ExecuteTime": {
     "end_time": "2024-10-10T16:46:49.936067Z",
     "start_time": "2024-10-10T16:46:49.924547Z"
    }
   },
   "cell_type": "code",
   "source": [
    "Cl = (2/(gamma*M1**2)) * (P3_P1 - P2_P1) * np.cos(theta1*np.pi/180)\n",
    "Cd = (2/(gamma*M1**2)) * (P3_P1 + P2_P1) * np.sin(theta1*np.pi/180)\n",
    "print(f\"Cl = {Cl:.4f}, Cd = {Cd:.4f}\")"
   ],
   "id": "6349c22d931f11c0",
   "outputs": [
    {
     "name": "stdout",
     "output_type": "stream",
     "text": [
      "Cl = 0.1461, Cd = 0.0386\n"
     ]
    }
   ],
   "execution_count": 290
  }
 ],
 "metadata": {
  "kernelspec": {
   "display_name": "Python 3",
   "language": "python",
   "name": "python3"
  },
  "language_info": {
   "codemirror_mode": {
    "name": "ipython",
    "version": 2
   },
   "file_extension": ".py",
   "mimetype": "text/x-python",
   "name": "python",
   "nbconvert_exporter": "python",
   "pygments_lexer": "ipython2",
   "version": "2.7.6"
  }
 },
 "nbformat": 4,
 "nbformat_minor": 5
}
