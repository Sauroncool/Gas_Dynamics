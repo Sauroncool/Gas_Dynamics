{
 "cells": [
  {
   "cell_type": "code",
   "execution_count": 283,
   "metadata": {},
   "outputs": [
    {
     "data": {
      "text/plain": [
       "287"
      ]
     },
     "metadata": {},
     "output_type": "display_data"
    }
   ],
   "source": [
    "gamma = 1.3\n",
    "R = 287"
   ]
  },
  {
   "cell_type": "code",
   "execution_count": 284,
   "metadata": {},
   "outputs": [
    {
     "data": {
      "text/plain": [
       "10.8"
      ]
     },
     "metadata": {},
     "output_type": "display_data"
    }
   ],
   "source": [
    "f = 0.003 # Friction Factor\n",
    "D = 0.3 # m (Diameter)\n",
    "Lt = 10.8"
   ]
  },
  {
   "cell_type": "code",
   "execution_count": 285,
   "metadata": {},
   "outputs": [
    {
     "data": {
      "text/plain": [
       "L_star (generic function with 1 method)"
      ]
     },
     "metadata": {},
     "output_type": "display_data"
    }
   ],
   "source": [
    "function L_star(M)  # Fanno Flow Relation\n",
    "    return ((1 - M^2)/(gamma * M^2) + ((gamma + 1) / (2 * gamma))* log((gamma + 1) * M^2 / (2 + (gamma - 1) * M^2))) * D / (4 * f)\n",
    "end"
   ]
  },
  {
   "cell_type": "code",
   "execution_count": 286,
   "metadata": {},
   "outputs": [
    {
     "data": {
      "text/plain": [
       "M2 (generic function with 1 method)"
      ]
     },
     "metadata": {},
     "output_type": "display_data"
    }
   ],
   "source": [
    "function M2(M1) # Normal Shock Mach Relation\n",
    "    return ((1 + ((gamma - 1) / 2) * M1^2)/(gamma * M1^2 - (gamma - 1) / 2))^0.5\n",
    "end"
   ]
  },
  {
   "cell_type": "code",
   "execution_count": 287,
   "metadata": {},
   "outputs": [],
   "source": [
    "using JuMP\n",
    "import Ipopt"
   ]
  },
  {
   "cell_type": "code",
   "execution_count": 288,
   "metadata": {},
   "outputs": [
    {
     "data": {
      "text/plain": [
       "A JuMP Model\n",
       "├ solver: Ipopt\n",
       "├ objective_sense: FEASIBILITY_SENSE\n",
       "├ num_variables: 0\n",
       "├ num_constraints: 0\n",
       "└ Names registered in the model: none"
      ]
     },
     "metadata": {},
     "output_type": "display_data"
    }
   ],
   "source": [
    "model = Model(Ipopt.Optimizer) # Using Non Linear solver"
   ]
  },
  {
   "cell_type": "code",
   "execution_count": 289,
   "metadata": {},
   "outputs": [
    {
     "data": {
      "text/latex": [
       "$ Mx $"
      ],
      "text/plain": [
       "Mx"
      ]
     },
     "metadata": {},
     "output_type": "display_data"
    }
   ],
   "source": [
    "@variable(model, Mx, lower_bound = 1)"
   ]
  },
  {
   "cell_type": "code",
   "execution_count": 290,
   "metadata": {},
   "outputs": [
    {
     "data": {
      "text/latex": [
       "$ My $"
      ],
      "text/plain": [
       "My"
      ]
     },
     "metadata": {},
     "output_type": "display_data"
    }
   ],
   "source": [
    "@variable(model, My, lower_bound = 0)"
   ]
  },
  {
   "cell_type": "code",
   "execution_count": 291,
   "metadata": {},
   "outputs": [
    {
     "data": {
      "text/latex": [
       "$ La $"
      ],
      "text/plain": [
       "La"
      ]
     },
     "metadata": {},
     "output_type": "display_data"
    }
   ],
   "source": [
    "@variable(model, La, lower_bound = 0)"
   ]
  },
  {
   "cell_type": "code",
   "execution_count": 292,
   "metadata": {},
   "outputs": [
    {
     "data": {
      "text/latex": [
       "$ Lb $"
      ],
      "text/plain": [
       "Lb"
      ]
     },
     "metadata": {},
     "output_type": "display_data"
    }
   ],
   "source": [
    "@variable(model, Lb, lower_bound = 0)"
   ]
  },
  {
   "cell_type": "code",
   "execution_count": 293,
   "metadata": {},
   "outputs": [
    {
     "data": {
      "text/latex": [
       "$$ {La} - {\\left({8.931934142052128} - {\\left({\\left({\\left({\\left({\\left(-Mx^2 + 1\\right)} / {\\left(1.3 Mx^2\\right)}\\right)} + {\\left({0.8846153846153845} * {\\textsf{log}\\left({{\\left(2.3 Mx^2\\right)} / {\\left(0.30000000000000004 Mx^2 + 2\\right)}}\\right)}\\right)}\\right)} * {0.3}\\right)} / {0.012}\\right)}\\right)} = 0 $$"
      ],
      "text/plain": [
       "La - (8.931934142052128 - (((((-Mx² + 1) / (1.3 Mx²)) + (0.8846153846153845 * log((2.3 Mx²) / (0.30000000000000004 Mx² + 2)))) * 0.3) / 0.012)) == 0"
      ]
     },
     "metadata": {},
     "output_type": "display_data"
    }
   ],
   "source": [
    "@constraint(model, La == L_star(2) - L_star(Mx))  # Length before shock\n"
   ]
  },
  {
   "cell_type": "code",
   "execution_count": 294,
   "metadata": {},
   "outputs": [
    {
     "data": {
      "text/latex": [
       "$$ {Lb} - {\\left({\\left({\\left({\\left({\\left(-My^2 + 1\\right)} / {\\left(1.3 My^2\\right)}\\right)} + {\\left({0.8846153846153845} * {\\textsf{log}\\left({{\\left(2.3 My^2\\right)} / {\\left(0.30000000000000004 My^2 + 2\\right)}}\\right)}\\right)}\\right)} * {0.3}\\right)} / {0.012}\\right)} = 0 $$"
      ],
      "text/plain": [
       "Lb - (((((-My² + 1) / (1.3 My²)) + (0.8846153846153845 * log((2.3 My²) / (0.30000000000000004 My² + 2)))) * 0.3) / 0.012) == 0"
      ]
     },
     "metadata": {},
     "output_type": "display_data"
    }
   ],
   "source": [
    "@constraint(model, Lb == L_star(My))              # Length after shock"
   ]
  },
  {
   "cell_type": "code",
   "execution_count": 295,
   "metadata": {},
   "outputs": [
    {
     "data": {
      "text/latex": [
       "$$ La + Lb = 10.8 $$"
      ],
      "text/plain": [
       "La + Lb == 10.8"
      ]
     },
     "metadata": {},
     "output_type": "display_data"
    }
   ],
   "source": [
    "@constraint(model, La + Lb == Lt)\n"
   ]
  },
  {
   "cell_type": "code",
   "execution_count": 296,
   "metadata": {},
   "outputs": [
    {
     "data": {
      "text/latex": [
       "$$ {My} - {\\left({\\left({\\left(0.15000000000000002 Mx^2 + 1\\right)} / {\\left(1.3 Mx^2 - 0.15000000000000002\\right)}\\right)} ^ {0.5}\\right)} = 0 $$"
      ],
      "text/plain": [
       "My - (((0.15000000000000002 Mx² + 1) / (1.3 Mx² - 0.15000000000000002)) ^ 0.5) == 0"
      ]
     },
     "metadata": {},
     "output_type": "display_data"
    }
   ],
   "source": [
    "@constraint(model, My == M2(Mx))"
   ]
  },
  {
   "cell_type": "code",
   "execution_count": 297,
   "metadata": {},
   "outputs": [
    {
     "data": {
      "text/latex": [
       "$ La + Lb $"
      ],
      "text/plain": [
       "La + Lb"
      ]
     },
     "metadata": {},
     "output_type": "display_data"
    }
   ],
   "source": [
    "# Dummy objective (since it's a constraint satisfaction problem)\n",
    "@objective(model, Min, La + Lb)"
   ]
  },
  {
   "cell_type": "code",
   "execution_count": 298,
   "metadata": {},
   "outputs": [
    {
     "name": "stdout",
     "output_type": "stream",
     "text": [
      "This is Ipopt version 3.14.16, running with linear solver MUMPS 5.7.3.\n",
      "\n",
      "Number of nonzeros in equality constraint Jacobian...:        8\n",
      "Number of nonzeros in inequality constraint Jacobian.:        0\n",
      "Number of nonzeros in Lagrangian Hessian.............:        3\n",
      "\n",
      "Total number of variables............................:        4\n",
      "                     variables with only lower bounds:        4\n",
      "                variables with lower and upper bounds:        0\n",
      "                     variables with only upper bounds:        0\n",
      "Total number of equality constraints.................:        4\n",
      "Total number of inequality constraints...............:        0\n",
      "        inequality constraints with only lower bounds:        0\n",
      "   inequality constraints with lower and upper bounds:        0\n",
      "        inequality constraints with only upper bounds:        0\n",
      "\n",
      "iter    objective    inf_pr   inf_du lg(mu)  ||d||  lg(rg) alpha_du alpha_pr  ls\n",
      "   0  1.9999980e-02 1.92e+05 1.00e+00  -1.0 0.00e+00    -  0.00e+00 0.00e+00   0\n",
      "   1  1.0800000e+01 8.53e+04 5.11e+03  -1.0 8.27e+00    -  1.21e-03 1.00e+00h  1\n",
      "   2  1.0800000e+01 6.83e+04 3.46e+03  -1.0 3.49e+01    -  6.70e-02 2.35e-01h  1\n",
      "   3  1.0800000e+01 6.82e+04 3.45e+03  -1.0 3.57e+01    -  2.50e-01 2.30e-03h  1\n",
      "   4  1.0800000e+01 6.82e+04 7.45e+04  -1.0 3.57e+01    -  1.00e+00 2.29e-05h  1\n",
      "   5r 1.0800000e+01 6.82e+04 1.00e+03   4.8 0.00e+00    -  0.00e+00 1.15e-07R  2\n",
      "   6r 1.1467927e+01 3.04e+04 6.43e+05   4.8 6.82e+07    -  1.59e-01 9.89e-04f  1\n",
      "   7r 1.0657197e+01 2.57e+04 3.61e+04   3.4 4.26e+03    -  7.14e-01 1.59e-01f  1\n",
      "   8r 3.7390629e+00 1.29e+04 2.68e+04   2.7 6.67e+01    -  1.00e+00 8.17e-01f  1\n",
      "   9r 3.4492091e+00 8.59e+03 1.11e+04   2.7 1.34e+01    -  1.00e+00 4.51e-01f  1\n",
      "iter    objective    inf_pr   inf_du lg(mu)  ||d||  lg(rg) alpha_du alpha_pr  ls\n",
      "  10r 7.8572161e+00 3.79e+03 1.60e+04   2.7 5.78e+00    -  3.77e-01 1.00e+00f  1\n",
      "  11r 7.8764087e+00 1.66e+03 1.53e+03   2.0 1.00e-01   4.0 7.85e-01 1.00e+00f  1\n",
      "  12r 1.0192594e+01 1.34e+03 1.85e+03   2.0 2.08e+01    -  1.45e-01 2.22e-01f  1\n",
      "  13r 1.0677963e+01 1.03e+03 1.27e+03   2.0 1.56e+01    -  2.23e-01 2.78e-01f  1\n",
      "  14r 1.0830701e+01 6.04e+02 5.07e+02   1.3 4.14e+00    -  6.04e-01 5.91e-01f  1\n",
      "  15r 1.0795775e+01 2.62e+02 4.61e+02   1.3 2.95e+00    -  1.00e+00 9.48e-01f  1\n",
      "  16r 1.0800078e+01 1.06e+02 4.37e+02   1.3 1.22e+00    -  1.00e+00 1.00e+00f  1\n",
      "  17r 1.0799882e+01 3.86e+01 3.62e+02   0.6 7.27e-01    -  8.79e-01 1.00e+00f  1\n",
      "  18r 1.0799971e+01 1.19e+01 2.85e+02   0.6 2.01e-01    -  1.00e+00 1.00e+00f  1\n",
      "  19r 1.0799959e+01 6.41e+00 1.63e+02   0.6 6.98e-02    -  1.00e+00 5.28e-01f  1\n",
      "iter    objective    inf_pr   inf_du lg(mu)  ||d||  lg(rg) alpha_du alpha_pr  ls\n",
      "  20r 1.0799985e+01 6.08e+00 5.84e+02  -0.1 2.52e+00    -  1.23e-01 5.22e-02h  1\n",
      "  21r 1.0800011e+01 2.19e+00 2.47e+02  -0.1 3.65e+00    -  1.00e+00 1.00e+00f  1\n",
      "  22r 1.0800007e+01 3.87e-01 3.64e+01  -0.1 8.08e-01    -  1.00e+00 1.00e+00h  1\n",
      "  23r 1.0800004e+01 3.63e-02 8.84e+00  -0.8 3.82e-01    -  1.00e+00 1.00e+00f  1\n",
      "  24r 1.0800000e+01 2.87e-03 1.16e+01  -1.5 3.21e-02    -  1.00e+00 9.29e-01f  1\n",
      "  25r 1.0800000e+01 6.18e-06 1.73e-02  -1.5 1.44e-03    -  1.00e+00 1.00e+00f  1\n",
      "  26r 1.0800000e+01 3.25e-08 8.77e-01  -3.3 3.59e-04    -  1.00e+00 1.00e+00f  1\n",
      "  27r 1.0800000e+01 7.60e-09 1.09e-05  -3.3 1.47e-06    -  1.00e+00 1.00e+00h  1\n",
      "\n",
      "Number of Iterations....: 27\n",
      "\n",
      "                                   (scaled)                 (unscaled)\n",
      "Objective...............:   1.0800000000151440e+01    1.0800000000151440e+01\n",
      "Dual infeasibility......:   2.3383599334214814e-15    2.3383599334214814e-15\n",
      "Constraint violation....:   7.6010162608497467e-09    7.6010162608497467e-09\n",
      "Variable bound violation:   0.0000000000000000e+00    0.0000000000000000e+00\n",
      "Complementarity.........:   0.0000000000000000e+00    0.0000000000000000e+00\n",
      "Overall NLP error.......:   7.6010162608497467e-09    7.6010162608497467e-09\n",
      "\n",
      "\n",
      "Number of objective function evaluations             = 30\n",
      "Number of objective gradient evaluations             = 7\n",
      "Number of equality constraint evaluations            = 30\n",
      "Number of inequality constraint evaluations          = 0\n",
      "Number of equality constraint Jacobian evaluations   = 29\n",
      "Number of inequality constraint Jacobian evaluations = 0\n",
      "Number of Lagrangian Hessian evaluations             = 27\n",
      "Total seconds in IPOPT                               = 0.148\n",
      "\n",
      "EXIT: Optimal Solution Found.\n"
     ]
    }
   ],
   "source": [
    "# Solve the model\n",
    "optimize!(model)"
   ]
  },
  {
   "cell_type": "code",
   "execution_count": 299,
   "metadata": {},
   "outputs": [
    {
     "data": {
      "text/plain": [
       "1.4691533117664077"
      ]
     },
     "metadata": {},
     "output_type": "display_data"
    }
   ],
   "source": [
    "Mx_val = value(Mx)\n"
   ]
  },
  {
   "cell_type": "code",
   "execution_count": 300,
   "metadata": {},
   "outputs": [
    {
     "data": {
      "text/plain": [
       "0.7059861829108358"
      ]
     },
     "metadata": {},
     "output_type": "display_data"
    }
   ],
   "source": [
    "My_val = value(My)"
   ]
  },
  {
   "cell_type": "code",
   "execution_count": 301,
   "metadata": {},
   "outputs": [
    {
     "data": {
      "text/plain": [
       "5.350025925371121"
      ]
     },
     "metadata": {},
     "output_type": "display_data"
    }
   ],
   "source": [
    "La_val = value(La)\n"
   ]
  },
  {
   "cell_type": "code",
   "execution_count": 302,
   "metadata": {},
   "outputs": [
    {
     "data": {
      "text/plain": [
       "5.44997407478032"
      ]
     },
     "metadata": {},
     "output_type": "display_data"
    }
   ],
   "source": [
    "Lb_val = value(Lb)"
   ]
  }
 ],
 "metadata": {
  "kernelspec": {
   "display_name": "Julia 1.10.4",
   "language": "julia",
   "name": "julia-1.10"
  },
  "language_info": {
   "file_extension": ".jl",
   "mimetype": "application/julia",
   "name": "julia",
   "version": "1.10.4"
  }
 },
 "nbformat": 4,
 "nbformat_minor": 2
}
