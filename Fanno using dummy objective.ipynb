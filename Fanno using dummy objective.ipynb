{
 "cells": [
  {
   "cell_type": "code",
   "execution_count": 1,
   "metadata": {},
   "outputs": [
    {
     "data": {
      "text/plain": [
       "287"
      ]
     },
     "metadata": {},
     "output_type": "display_data"
    }
   ],
   "source": [
    "gamma = 1.3\n",
    "R = 287"
   ]
  },
  {
   "cell_type": "code",
   "execution_count": 2,
   "metadata": {},
   "outputs": [
    {
     "data": {
      "text/plain": [
       "10.8"
      ]
     },
     "metadata": {},
     "output_type": "display_data"
    }
   ],
   "source": [
    "f = 0.003 # Friction Factor\n",
    "D = 0.3 # m (Diameter)\n",
    "Lt = 10.8"
   ]
  },
  {
   "cell_type": "code",
   "execution_count": 3,
   "metadata": {},
   "outputs": [
    {
     "data": {
      "text/plain": [
       "L_star (generic function with 1 method)"
      ]
     },
     "metadata": {},
     "output_type": "display_data"
    }
   ],
   "source": [
    "function L_star(M)  # Fanno Flow Relation\n",
    "    return ((1 - M^2)/(gamma * M^2) + ((gamma + 1) / (2 * gamma))* log((gamma + 1) * M^2 / (2 + (gamma - 1) * M^2))) * D / (4 * f)\n",
    "end"
   ]
  },
  {
   "cell_type": "code",
   "execution_count": 4,
   "metadata": {},
   "outputs": [
    {
     "data": {
      "text/plain": [
       "M2 (generic function with 1 method)"
      ]
     },
     "metadata": {},
     "output_type": "display_data"
    }
   ],
   "source": [
    "function M2(M1) # Normal Shock Mach Relation\n",
    "    return ((1 + ((gamma - 1) / 2) * M1^2)/(gamma * M1^2 - (gamma - 1) / 2))^0.5\n",
    "end"
   ]
  },
  {
   "cell_type": "code",
   "execution_count": 5,
   "metadata": {},
   "outputs": [],
   "source": [
    "using JuMP\n",
    "import Ipopt"
   ]
  },
  {
   "cell_type": "code",
   "execution_count": 6,
   "metadata": {},
   "outputs": [
    {
     "data": {
      "text/plain": [
       "A JuMP Model\n",
       "├ solver: Ipopt\n",
       "├ objective_sense: FEASIBILITY_SENSE\n",
       "├ num_variables: 0\n",
       "├ num_constraints: 0\n",
       "└ Names registered in the model: none"
      ]
     },
     "metadata": {},
     "output_type": "display_data"
    }
   ],
   "source": [
    "model = Model(Ipopt.Optimizer) # Using Non Linear solver"
   ]
  },
  {
   "cell_type": "code",
   "execution_count": 7,
   "metadata": {},
   "outputs": [
    {
     "data": {
      "text/latex": [
       "$ Mx $"
      ],
      "text/plain": [
       "Mx"
      ]
     },
     "metadata": {},
     "output_type": "display_data"
    }
   ],
   "source": [
    "@variable(model, Mx, lower_bound = 1)"
   ]
  },
  {
   "cell_type": "code",
   "execution_count": 8,
   "metadata": {},
   "outputs": [
    {
     "data": {
      "text/latex": [
       "$ My $"
      ],
      "text/plain": [
       "My"
      ]
     },
     "metadata": {},
     "output_type": "display_data"
    }
   ],
   "source": [
    "@variable(model, My, lower_bound = 0)"
   ]
  },
  {
   "cell_type": "code",
   "execution_count": 9,
   "metadata": {},
   "outputs": [
    {
     "data": {
      "text/latex": [
       "$ La $"
      ],
      "text/plain": [
       "La"
      ]
     },
     "metadata": {},
     "output_type": "display_data"
    }
   ],
   "source": [
    "@variable(model, La, lower_bound = 0)"
   ]
  },
  {
   "cell_type": "code",
   "execution_count": 10,
   "metadata": {},
   "outputs": [
    {
     "data": {
      "text/latex": [
       "$ Lb $"
      ],
      "text/plain": [
       "Lb"
      ]
     },
     "metadata": {},
     "output_type": "display_data"
    }
   ],
   "source": [
    "@variable(model, Lb, lower_bound = 0)"
   ]
  },
  {
   "cell_type": "code",
   "execution_count": 11,
   "metadata": {},
   "outputs": [
    {
     "data": {
      "text/latex": [
       "$$ {La} - {\\left({8.931934142052128} - {\\left({\\left({\\left({\\left({\\left(-Mx^2 + 1\\right)} / {\\left(1.3 Mx^2\\right)}\\right)} + {\\left({0.8846153846153845} * {\\textsf{log}\\left({{\\left(2.3 Mx^2\\right)} / {\\left(0.30000000000000004 Mx^2 + 2\\right)}}\\right)}\\right)}\\right)} * {0.3}\\right)} / {0.012}\\right)}\\right)} = 0 $$"
      ],
      "text/plain": [
       "La - (8.931934142052128 - (((((-Mx² + 1) / (1.3 Mx²)) + (0.8846153846153845 * log((2.3 Mx²) / (0.30000000000000004 Mx² + 2)))) * 0.3) / 0.012)) == 0"
      ]
     },
     "metadata": {},
     "output_type": "display_data"
    }
   ],
   "source": [
    "@constraint(model, La == L_star(2) - L_star(Mx))  # Length before shock\n"
   ]
  },
  {
   "cell_type": "code",
   "execution_count": 12,
   "metadata": {},
   "outputs": [
    {
     "data": {
      "text/latex": [
       "$$ {Lb} - {\\left({\\left({\\left({\\left({\\left(-My^2 + 1\\right)} / {\\left(1.3 My^2\\right)}\\right)} + {\\left({0.8846153846153845} * {\\textsf{log}\\left({{\\left(2.3 My^2\\right)} / {\\left(0.30000000000000004 My^2 + 2\\right)}}\\right)}\\right)}\\right)} * {0.3}\\right)} / {0.012}\\right)} = 0 $$"
      ],
      "text/plain": [
       "Lb - (((((-My² + 1) / (1.3 My²)) + (0.8846153846153845 * log((2.3 My²) / (0.30000000000000004 My² + 2)))) * 0.3) / 0.012) == 0"
      ]
     },
     "metadata": {},
     "output_type": "display_data"
    }
   ],
   "source": [
    "@constraint(model, Lb == L_star(My))              # Length after shock"
   ]
  },
  {
   "cell_type": "code",
   "execution_count": 13,
   "metadata": {},
   "outputs": [
    {
     "data": {
      "text/latex": [
       "$$ {My} - {\\left({\\left({\\left(0.15000000000000002 Mx^2 + 1\\right)} / {\\left(1.3 Mx^2 - 0.15000000000000002\\right)}\\right)} ^ {0.5}\\right)} = 0 $$"
      ],
      "text/plain": [
       "My - (((0.15000000000000002 Mx² + 1) / (1.3 Mx² - 0.15000000000000002)) ^ 0.5) == 0"
      ]
     },
     "metadata": {},
     "output_type": "display_data"
    }
   ],
   "source": [
    "@constraint(model, My == M2(Mx))"
   ]
  },
  {
   "cell_type": "code",
   "execution_count": 16,
   "metadata": {},
   "outputs": [
    {
     "data": {
      "text/latex": [
       "$ La^2 + 2 Lb\\times La + Lb^2 - 21.6 La - 21.6 Lb + 116.64000000000001 $"
      ],
      "text/plain": [
       "La² + 2 Lb*La + Lb² - 21.6 La - 21.6 Lb + 116.64000000000001"
      ]
     },
     "metadata": {},
     "output_type": "display_data"
    }
   ],
   "source": [
    "@objective(model,Min ,(La+Lb-Lt)^2) # #la+lb-Lt=0. (abs function takes too much time)"
   ]
  },
  {
   "cell_type": "code",
   "execution_count": 17,
   "metadata": {},
   "outputs": [
    {
     "name": "stdout",
     "output_type": "stream",
     "text": [
      "\n",
      "******************************************************************************\n",
      "This program contains Ipopt, a library for large-scale nonlinear optimization.\n",
      " Ipopt is released as open source code under the Eclipse Public License (EPL).\n",
      "         For more information visit https://github.com/coin-or/Ipopt\n",
      "******************************************************************************\n",
      "\n",
      "This is Ipopt version 3.14.16, running with linear solver MUMPS 5.7.3.\n",
      "\n",
      "Number of nonzeros in equality constraint Jacobian...:        6\n",
      "Number of nonzeros in inequality constraint Jacobian.:        0\n",
      "Number of nonzeros in Lagrangian Hessian.............:        6\n",
      "\n",
      "Total number of variables............................:        4\n",
      "                     variables with only lower bounds:        4\n",
      "                variables with lower and upper bounds:        0\n",
      "                     variables with only upper bounds:        0\n",
      "Total number of equality constraints.................:        3\n",
      "Total number of inequality constraints...............:        0\n",
      "        inequality constraints with only lower bounds:        0\n",
      "   inequality constraints with lower and upper bounds:        0\n",
      "        inequality constraints with only upper bounds:        0\n",
      "\n",
      "iter    objective    inf_pr   inf_du lg(mu)  ||d||  lg(rg) alpha_du alpha_pr  ls\n",
      "   0  1.1620840e+02 1.92e+05 2.26e+01  -1.0 0.00e+00    -  0.00e+00 0.00e+00   0\n",
      "   1  5.5919833e+00 8.53e+04 7.47e+03  -1.0 8.27e+00    -  1.21e-03 1.00e+00h  1\n",
      "   2  7.1182597e+01 6.83e+04 5.27e+03  -1.0 3.49e+01    -  1.71e-02 2.35e-01h  1\n",
      "   3  7.0859506e+01 6.82e+04 5.26e+03  -1.0 4.40e+01    -  6.23e-02 2.30e-03h  1\n",
      "   4  7.0856278e+01 6.82e+04 5.26e+03  -1.0 4.41e+01    -  2.50e-01 2.29e-05h  1\n",
      "   5r 7.0856278e+01 6.82e+04 1.00e+03   4.8 0.00e+00    -  0.00e+00 1.17e-07R  2\n",
      "   6r 5.9828091e+01 3.05e+04 6.43e+05   4.8 6.83e+07    -  1.59e-01 9.89e-04f  1\n",
      "   7  5.9617282e+01 3.04e+04 1.78e+03  -1.0 4.34e+01    -  8.12e-02 1.85e-03h  1\n",
      "   8  6.0016697e+01 3.04e+04 9.63e+07  -1.0 1.36e+03    -  1.00e+00 1.85e-05h  1\n",
      "   9r 6.0016697e+01 3.04e+04 1.00e+03   4.5 0.00e+00    -  0.00e+00 3.05e-07R  4\n",
      "iter    objective    inf_pr   inf_du lg(mu)  ||d||  lg(rg) alpha_du alpha_pr  ls\n",
      "  10r 5.1709692e+01 1.36e+04 3.77e+05   4.5 3.04e+07    -  3.11e-01 9.90e-04f  1\n",
      "  11  5.1685471e+01 1.35e+04 1.16e+02  -1.0 3.70e+01    -  8.76e-02 8.51e-04h  1\n",
      "  12r 5.1685471e+01 1.35e+04 9.99e+02   4.1 0.00e+00    -  0.00e+00 2.66e-07R  6\n",
      "  13r 4.4135258e+01 6.03e+03 2.33e+05   4.1 1.36e+07    -  6.45e-01 9.90e-04f  1\n",
      "  14  4.3795741e+01 6.00e+03 4.41e+01  -1.0 3.96e+01    -  1.18e-01 3.90e-03h  1\n",
      "  15  4.3860632e+01 6.00e+03 2.23e+05  -1.0 9.25e+01    -  2.76e-01 3.91e-05h  1\n",
      "  16  1.1573921e+02 6.00e+03 7.52e+07  -1.0 1.01e+05    -  1.21e-01 4.08e-05h  1\n",
      "  17r 1.1573921e+02 6.00e+03 1.00e+03   3.8 0.00e+00    -  0.00e+00 2.04e-07R  2\n",
      "  18r 1.1046699e+02 2.66e+03 4.83e+04   3.8 6.01e+06    -  4.50e-01 9.90e-04f  1\n",
      "  19  1.1053432e+02 2.66e+03 1.23e+02  -1.0 3.02e+01    -  2.01e-02 1.95e-04h  1\n",
      "iter    objective    inf_pr   inf_du lg(mu)  ||d||  lg(rg) alpha_du alpha_pr  ls\n",
      "  20r 1.1053432e+02 2.66e+03 9.99e+02   3.4 0.00e+00    -  0.00e+00 4.84e-07R  4\n",
      "  21r 1.0629337e+02 1.17e+03 4.55e+03   3.4 2.66e+06    -  1.45e-01 9.90e-04f  1\n",
      "  22  1.0613152e+02 1.17e+03 3.97e+01  -1.0 3.44e+01    -  1.79e-02 9.63e-04h  1\n",
      "  23  1.0684969e+02 1.17e+03 6.53e+05  -1.0 2.42e+03    -  4.69e-01 1.43e-05h  1\n",
      "  24  1.1653992e+02 1.17e+03 5.20e+06  -1.0 7.48e+03    -  8.77e-01 6.13e-05h  1\n",
      "  25r 1.1653992e+02 1.17e+03 1.00e+03   3.1 0.00e+00    -  0.00e+00 3.20e-07R  2\n",
      "  26r 1.1648997e+02 5.06e+02 9.66e+02   3.1 1.17e+06    -  4.96e-02 9.91e-04f  1\n",
      "  27  1.1651557e+02 5.06e+02 7.34e+03  -1.0 2.05e+01    -  4.11e-01 5.59e-05h  1\n",
      "  28r 1.1651557e+02 5.06e+02 1.00e+03   2.7 0.00e+00    -  0.00e+00 4.33e-07R  4\n",
      "  29r 1.1630965e+02 2.14e+02 9.79e+02   2.7 5.01e+05    -  2.03e-02 1.00e-03f  1\n",
      "iter    objective    inf_pr   inf_du lg(mu)  ||d||  lg(rg) alpha_du alpha_pr  ls\n",
      "  30  1.1633549e+02 2.14e+02 1.79e+06  -1.0 1.69e+01    -  1.00e+00 4.05e-05h  1\n",
      "  31  1.1663695e+02 2.14e+02 4.87e+10  -1.0 3.85e+02    -  1.00e+00 3.63e-05h  1\n",
      "  32r 1.1663695e+02 2.14e+02 1.00e+03   2.3 0.00e+00    -  0.00e+00 1.82e-07R  2\n",
      "  33r 1.1662720e+02 8.74e+01 9.89e+02   2.3 2.01e+05    -  1.09e-02 1.06e-03f  1\n",
      "  34  1.1663269e+02 8.74e+01 1.91e+04  -1.0 4.54e+00    -  9.28e-01 4.93e-05h  1\n",
      "  35r 1.1663269e+02 8.74e+01 1.00e+03   1.9 0.00e+00    -  0.00e+00 4.69e-07R  5\n",
      "  36r 1.1662755e+02 3.39e+01 9.93e+02   1.9 6.36e+04    -  7.61e-03 1.36e-03f  1\n",
      "  37  2.8229849e+01 1.07e+01 8.32e+05  -1.0 2.87e+00    -  4.32e-05 1.00e+00f  1\n",
      "  38  5.0871644e+00 2.56e+00 8.55e+04  -1.0 2.14e+00   4.0 7.61e-01 1.00e+00f  1\n",
      "  39  9.5787296e-02 8.30e-06 7.46e+02  -1.0 2.57e+00    -  1.00e+00 1.00e+00f  1\n",
      "iter    objective    inf_pr   inf_du lg(mu)  ||d||  lg(rg) alpha_du alpha_pr  ls\n",
      "  40  9.5766347e-02 3.76e-10 2.27e-01  -1.0 6.81e-05   3.5 1.00e+00 1.00e+00h  1\n",
      "  41  2.8613419e-04 2.31e-02 1.51e+00  -1.7 6.05e-01    -  1.00e+00 1.00e+00f  1\n",
      "  42  1.3974326e-05 2.62e-04 1.11e-02  -1.7 3.81e-02    -  1.00e+00 1.00e+00h  1\n",
      "  43  1.4182007e-09 4.98e-06 2.29e-04  -3.8 8.11e-03    -  1.00e+00 1.00e+00h  1\n",
      "  44  1.0302870e-13 5.40e-10 2.66e-08  -5.7 8.21e-05    -  1.00e+00 1.00e+00h  1\n",
      "  45  0.0000000e+00 4.44e-14 1.57e-12  -8.6 6.92e-07    -  1.00e+00 1.00e+00h  1\n",
      "\n",
      "Number of Iterations....: 45\n",
      "\n",
      "                                   (scaled)                 (unscaled)\n",
      "Objective...............:   0.0000000000000000e+00    0.0000000000000000e+00\n",
      "Dual infeasibility......:   1.5729568685514316e-12    1.5729568685514316e-12\n",
      "Constraint violation....:   4.4408920985006262e-14    4.4408920985006262e-14\n",
      "Variable bound violation:   0.0000000000000000e+00    0.0000000000000000e+00\n",
      "Complementarity.........:   2.5061380003395167e-09    2.5061380003395167e-09\n",
      "Overall NLP error.......:   2.5061380003395167e-09    2.5061380003395167e-09\n",
      "\n",
      "\n",
      "Number of objective function evaluations             = 77\n",
      "Number of objective gradient evaluations             = 46\n",
      "Number of equality constraint evaluations            = 77\n",
      "Number of inequality constraint evaluations          = 0\n",
      "Number of equality constraint Jacobian evaluations   = 55\n",
      "Number of inequality constraint Jacobian evaluations = 0\n",
      "Number of Lagrangian Hessian evaluations             = 45\n",
      "Total seconds in IPOPT                               = 0.116\n",
      "\n",
      "EXIT: Optimal Solution Found.\n"
     ]
    }
   ],
   "source": [
    "# Solve the model\n",
    "optimize!(model)"
   ]
  },
  {
   "cell_type": "code",
   "execution_count": 18,
   "metadata": {},
   "outputs": [
    {
     "data": {
      "text/plain": [
       "1.4691532700054162"
      ]
     },
     "metadata": {},
     "output_type": "display_data"
    }
   ],
   "source": [
    "Mx_val = value(Mx)\n"
   ]
  },
  {
   "cell_type": "code",
   "execution_count": 19,
   "metadata": {},
   "outputs": [
    {
     "data": {
      "text/plain": [
       "0.7059861916028758"
      ]
     },
     "metadata": {},
     "output_type": "display_data"
    }
   ],
   "source": [
    "My_val = value(My)"
   ]
  },
  {
   "cell_type": "code",
   "execution_count": 20,
   "metadata": {},
   "outputs": [
    {
     "data": {
      "text/plain": [
       "5.350026368902088"
      ]
     },
     "metadata": {},
     "output_type": "display_data"
    }
   ],
   "source": [
    "La_val = value(La)\n"
   ]
  },
  {
   "cell_type": "code",
   "execution_count": 21,
   "metadata": {},
   "outputs": [
    {
     "data": {
      "text/plain": [
       "5.449973631535962"
      ]
     },
     "metadata": {},
     "output_type": "display_data"
    }
   ],
   "source": [
    "Lb_val = value(Lb)"
   ]
  }
 ],
 "metadata": {
  "kernelspec": {
   "display_name": "Julia 1.10.4",
   "language": "julia",
   "name": "julia-1.10"
  },
  "language_info": {
   "file_extension": ".jl",
   "mimetype": "application/julia",
   "name": "julia",
   "version": "1.10.4"
  }
 },
 "nbformat": 4,
 "nbformat_minor": 2
}
