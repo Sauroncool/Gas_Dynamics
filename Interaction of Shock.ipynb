{
 "cells": [
  {
   "metadata": {
    "ExecuteTime": {
     "end_time": "2024-10-10T16:30:54.690542Z",
     "start_time": "2024-10-10T16:30:54.670961Z"
    }
   },
   "cell_type": "code",
   "source": [
    "import numpy as np\n",
    "from scipy.optimize import fsolve"
   ],
   "id": "184ea4cf2493f1bf",
   "outputs": [],
   "execution_count": 309
  },
  {
   "cell_type": "code",
   "id": "initial_id",
   "metadata": {
    "collapsed": true,
    "ExecuteTime": {
     "end_time": "2024-10-10T16:30:54.747733Z",
     "start_time": "2024-10-10T16:30:54.735911Z"
    }
   },
   "source": [
    "gamma = 1.4\n",
    "R = 287"
   ],
   "outputs": [],
   "execution_count": 310
  },
  {
   "metadata": {
    "ExecuteTime": {
     "end_time": "2024-10-10T16:30:54.767899Z",
     "start_time": "2024-10-10T16:30:54.751180Z"
    }
   },
   "cell_type": "code",
   "source": [
    "M1 = 3\n",
    "P1 = 30000 # Pa\n",
    "T1 = 263 # K"
   ],
   "id": "c424b7c63a0775d2",
   "outputs": [],
   "execution_count": 311
  },
  {
   "metadata": {
    "ExecuteTime": {
     "end_time": "2024-10-10T16:30:54.773994Z",
     "start_time": "2024-10-10T16:30:54.767899Z"
    }
   },
   "cell_type": "code",
   "source": [
    "theta2 = 4\n",
    "theta3 = 3"
   ],
   "id": "b61e57bc20189293",
   "outputs": [],
   "execution_count": 312
  },
  {
   "metadata": {
    "ExecuteTime": {
     "end_time": "2024-10-10T16:30:54.796752Z",
     "start_time": "2024-10-10T16:30:54.782321Z"
    }
   },
   "cell_type": "code",
   "source": [
    "def P_ratio(M): # Normal Shock Pressure ratio \n",
    "    return  1+ ((2*gamma)/(gamma+1)) * (M**2 - 1)   "
   ],
   "id": "f8c0e4e3942bcc59",
   "outputs": [],
   "execution_count": 313
  },
  {
   "metadata": {
    "ExecuteTime": {
     "end_time": "2024-10-10T16:30:54.807477Z",
     "start_time": "2024-10-10T16:30:54.800485Z"
    }
   },
   "cell_type": "code",
   "source": [
    "def theta_func(beta, M):\n",
    "    return np.arctan(2 / np.tan(beta) * ((M ** 2 * (np.sin(beta)) ** 2 - 1) /\n",
    "                                                (M ** 2 * (gamma + np.cos(2 * beta)) + 2)))"
   ],
   "id": "4c4ce2cf0ad87460",
   "outputs": [],
   "execution_count": 314
  },
  {
   "metadata": {
    "ExecuteTime": {
     "end_time": "2024-10-10T16:30:54.826932Z",
     "start_time": "2024-10-10T16:30:54.821333Z"
    }
   },
   "cell_type": "code",
   "source": [
    "def func_for_fsolve(beta, theta, M):\n",
    "    return theta - theta_func(beta, M)"
   ],
   "id": "c4bf48ca84a644fa",
   "outputs": [],
   "execution_count": 315
  },
  {
   "metadata": {
    "ExecuteTime": {
     "end_time": "2024-10-10T16:30:54.896192Z",
     "start_time": "2024-10-10T16:30:54.891652Z"
    }
   },
   "cell_type": "code",
   "source": [
    "def find_beta(theta_deg, M):\n",
    "    theta = np.radians(theta_deg)  # Convert deflection angle to radians\n",
    "    beta_initial_guess = np.radians(20)  # Initial guess for beta in radians\n",
    "\n",
    "    # Solve for beta using fsolve\n",
    "    beta_solution = fsolve(func_for_fsolve, beta_initial_guess, args=(theta, M))\n",
    "\n",
    "    # Convert beta to degrees\n",
    "    beta_deg = np.degrees(beta_solution[0])\n",
    "\n",
    "    return beta_deg"
   ],
   "id": "9af051384b00f1b9",
   "outputs": [],
   "execution_count": 316
  },
  {
   "metadata": {
    "ExecuteTime": {
     "end_time": "2024-10-10T16:30:54.917107Z",
     "start_time": "2024-10-10T16:30:54.913335Z"
    }
   },
   "cell_type": "code",
   "source": [
    "def NS(M): # Normal Shock Mach Relation\n",
    "    return ((1 + ((gamma - 1) / 2) * M ** 2)/(gamma * M ** 2 - (gamma - 1) / 2))**0.5"
   ],
   "id": "5b661c7e5170ed72",
   "outputs": [],
   "execution_count": 317
  },
  {
   "metadata": {},
   "cell_type": "markdown",
   "source": "1 to 2",
   "id": "723c602cc083b944"
  },
  {
   "metadata": {
    "ExecuteTime": {
     "end_time": "2024-10-10T16:30:54.937639Z",
     "start_time": "2024-10-10T16:30:54.918238Z"
    }
   },
   "cell_type": "code",
   "source": [
    "beta2 = find_beta(theta2, M1)\n",
    "M_N1 = M1 * np.sin(beta2*np.pi/180)\n",
    "M_N2 = NS(M_N1)\n",
    "P2 = P_ratio(M_N1)*P1\n",
    "M2 = M_N2 / np.sin((beta2 - theta2)* np.pi/180)\n",
    "print(M2)"
   ],
   "id": "b09f8329729011a3",
   "outputs": [
    {
     "name": "stdout",
     "output_type": "stream",
     "text": [
      "2.7988126655382213\n"
     ]
    }
   ],
   "execution_count": 318
  },
  {
   "metadata": {},
   "cell_type": "markdown",
   "source": "1 to 3",
   "id": "2babed9c24e2718c"
  },
  {
   "metadata": {
    "ExecuteTime": {
     "end_time": "2024-10-10T16:30:54.953807Z",
     "start_time": "2024-10-10T16:30:54.947102Z"
    }
   },
   "cell_type": "code",
   "source": [
    "beta3 = find_beta(theta3, M1)\n",
    "M_N1 = M1 * np.sin(beta3*np.pi/180)\n",
    "M_N3 = NS(M_N1)\n",
    "P3 = P_ratio(M_N1)*P1\n",
    "M3 = M_N3 / np.sin((beta3 - theta3)* np.pi/180)\n",
    "print(M3)"
   ],
   "id": "a81366118f9eb3a9",
   "outputs": [
    {
     "name": "stdout",
     "output_type": "stream",
     "text": [
      "2.8482352206865236\n"
     ]
    }
   ],
   "execution_count": 319
  },
  {
   "metadata": {},
   "cell_type": "markdown",
   "source": "2 - 42",
   "id": "a80eb3d9bd950123"
  },
  {
   "metadata": {
    "ExecuteTime": {
     "end_time": "2024-10-10T16:30:54.981327Z",
     "start_time": "2024-10-10T16:30:54.970464Z"
    }
   },
   "cell_type": "code",
   "source": [
    "def equations(vars):\n",
    "    theta42, theta43 = vars\n",
    "    \n",
    "    beta42 = find_beta(theta42, M2)\n",
    "    M_N2 = M2 * np.sin(beta42 * np.pi/180)\n",
    "    M_N42 = NS(M_N2)\n",
    "    P42 = P_ratio(M_N2)*P2\n",
    "    \n",
    "    \n",
    "    beta43 = find_beta(theta43, M3)\n",
    "    M_N3 = M3 * np.sin(beta43 * np.pi/180)\n",
    "    M_N43 = NS(M_N3)\n",
    "    P43 = P_ratio(M_N3)*P3\n",
    "    \n",
    "    \n",
    "    eq1 = theta42 + theta43 - (theta2 + theta3)\n",
    "    eq2 = P43-P42\n",
    "    return [eq1, eq2]"
   ],
   "id": "373c109ba16f2901",
   "outputs": [],
   "execution_count": 320
  },
  {
   "metadata": {
    "ExecuteTime": {
     "end_time": "2024-10-10T16:30:54.988790Z",
     "start_time": "2024-10-10T16:30:54.983206Z"
    }
   },
   "cell_type": "code",
   "source": [
    "# Initial guesses for theta42 and theta 43\n",
    "initial_guess = [5, 6]"
   ],
   "id": "7702b3baaaad3b3c",
   "outputs": [],
   "execution_count": 321
  },
  {
   "metadata": {
    "ExecuteTime": {
     "end_time": "2024-10-10T16:30:55.053825Z",
     "start_time": "2024-10-10T16:30:55.041581Z"
    }
   },
   "cell_type": "code",
   "source": [
    "solution = fsolve(equations, initial_guess)\n",
    "print(solution)"
   ],
   "id": "5c63682ddd5e3a3",
   "outputs": [
    {
     "name": "stdout",
     "output_type": "stream",
     "text": [
      "[3.00047435 3.99952565]\n"
     ]
    }
   ],
   "execution_count": 322
  },
  {
   "metadata": {
    "ExecuteTime": {
     "end_time": "2024-10-10T16:30:55.088333Z",
     "start_time": "2024-10-10T16:30:55.079014Z"
    }
   },
   "cell_type": "code",
   "source": [
    "beta42 = find_beta(solution[0], M2)\n",
    "M_N2 = M2 * np.sin(beta42 * np.pi/180)\n",
    "M_N42 = NS(M_N2)\n",
    "P42 = P_ratio(M_N2)*P2\n",
    "\n",
    "beta43 = find_beta(solution[1], M3)\n",
    "M_N3 = M3 * np.sin(beta43 * np.pi/180)\n",
    "M_N43 = NS(M_N3)\n",
    "P43 = P_ratio(M_N3)*P3\n",
    "\n",
    "print(P42)\n",
    "print(P43)\n"
   ],
   "id": "d285394af46340d1",
   "outputs": [
    {
     "name": "stdout",
     "output_type": "stream",
     "text": [
      "50293.847816333815\n",
      "50293.84781633384\n"
     ]
    }
   ],
   "execution_count": 323
  }
 ],
 "metadata": {
  "kernelspec": {
   "display_name": "Python 3",
   "language": "python",
   "name": "python3"
  },
  "language_info": {
   "codemirror_mode": {
    "name": "ipython",
    "version": 2
   },
   "file_extension": ".py",
   "mimetype": "text/x-python",
   "name": "python",
   "nbconvert_exporter": "python",
   "pygments_lexer": "ipython2",
   "version": "2.7.6"
  }
 },
 "nbformat": 4,
 "nbformat_minor": 5
}
