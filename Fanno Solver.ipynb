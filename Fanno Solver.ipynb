{
 "cells": [
  {
   "metadata": {
    "ExecuteTime": {
     "end_time": "2024-09-24T22:07:41.100233Z",
     "start_time": "2024-09-24T22:07:41.088981Z"
    }
   },
   "cell_type": "code",
   "source": [
    "import numpy as np\n",
    "from scipy.optimize import fsolve"
   ],
   "id": "8d236cd4d8d6595d",
   "outputs": [],
   "execution_count": 19
  },
  {
   "cell_type": "code",
   "id": "initial_id",
   "metadata": {
    "collapsed": true,
    "ExecuteTime": {
     "end_time": "2024-09-24T22:07:41.116469Z",
     "start_time": "2024-09-24T22:07:41.102238Z"
    }
   },
   "source": [
    "gamma = 1.3\n",
    "R = 287"
   ],
   "outputs": [],
   "execution_count": 20
  },
  {
   "metadata": {
    "ExecuteTime": {
     "end_time": "2024-09-24T22:07:41.125571Z",
     "start_time": "2024-09-24T22:07:41.117975Z"
    }
   },
   "cell_type": "code",
   "source": [
    "f = 0.003 # Friction Factor\n",
    "D = 0.3 # m (Diameter)\n",
    "Lt = 10.8"
   ],
   "id": "96e2936def5b0855",
   "outputs": [],
   "execution_count": 21
  },
  {
   "metadata": {
    "ExecuteTime": {
     "end_time": "2024-09-24T22:07:41.139225Z",
     "start_time": "2024-09-24T22:07:41.133810Z"
    }
   },
   "cell_type": "code",
   "source": [
    "def L_star(M): # Fanno Flow Relation\n",
    "    return ((1 - M ** 2)/(gamma * M ** 2) + ((gamma + 1) / (2 * gamma))*np.log((gamma + 1) * M ** 2 / (2 + (gamma - 1) * M ** 2))) * D / (4 * f)"
   ],
   "id": "1c74481d5ae03fc3",
   "outputs": [],
   "execution_count": 22
  },
  {
   "metadata": {
    "ExecuteTime": {
     "end_time": "2024-09-24T22:07:41.183784Z",
     "start_time": "2024-09-24T22:07:41.165775Z"
    }
   },
   "cell_type": "code",
   "source": [
    "def M2(M1): # Normal Shock Mach Relation\n",
    "    return ((1 + ((gamma - 1) / 2) * M1 ** 2)/(gamma * M1 ** 2 - (gamma - 1) / 2))**0.5"
   ],
   "id": "5a8a8076ee15c1ee",
   "outputs": [],
   "execution_count": 23
  },
  {
   "metadata": {
    "ExecuteTime": {
     "end_time": "2024-09-24T22:07:41.193428Z",
     "start_time": "2024-09-24T22:07:41.183784Z"
    }
   },
   "cell_type": "code",
   "source": [
    "# Function for solver\n",
    "def equations(vars):\n",
    "    Mx, My = vars\n",
    "    La = L_star(2) - L_star(Mx)  # Length before shock\n",
    "    Lb = L_star(My)              # Length after shock\n",
    "    eq1 = La + Lb - Lt  # La + Lb = Lt\n",
    "    eq2 = My - M2(Mx)   # My = M2(Mx)\n",
    "    return [eq1, eq2]"
   ],
   "id": "445e2c4fe4488f3e",
   "outputs": [],
   "execution_count": 24
  },
  {
   "metadata": {
    "ExecuteTime": {
     "end_time": "2024-09-24T22:07:41.221026Z",
     "start_time": "2024-09-24T22:07:41.213066Z"
    }
   },
   "cell_type": "code",
   "source": [
    "# Initial guesses for Mx and My\n",
    "initial_guess = [1.8, 0.4]"
   ],
   "id": "71f36026b649f5f0",
   "outputs": [],
   "execution_count": 25
  },
  {
   "metadata": {
    "ExecuteTime": {
     "end_time": "2024-09-24T22:07:41.265633Z",
     "start_time": "2024-09-24T22:07:41.244694Z"
    }
   },
   "cell_type": "code",
   "source": [
    "# Solve the equations\n",
    "solution = fsolve(equations, initial_guess)"
   ],
   "id": "49ee9dc243f55762",
   "outputs": [],
   "execution_count": 26
  },
  {
   "metadata": {
    "ExecuteTime": {
     "end_time": "2024-09-24T22:07:41.319876Z",
     "start_time": "2024-09-24T22:07:41.299528Z"
    }
   },
   "cell_type": "code",
   "source": [
    "Mx_sol, My_sol = solution\n",
    "\n",
    "# Output the solution\n",
    "print(f\"Mx = {Mx_sol:.4f}, My = {My_sol:.4f}\")"
   ],
   "id": "89d2d5168c468167",
   "outputs": [
    {
     "name": "stdout",
     "output_type": "stream",
     "text": [
      "Mx = 1.4692, My = 0.7060\n"
     ]
    }
   ],
   "execution_count": 27
  },
  {
   "metadata": {
    "ExecuteTime": {
     "end_time": "2024-09-24T22:09:11.947422Z",
     "start_time": "2024-09-24T22:09:11.931Z"
    }
   },
   "cell_type": "code",
   "source": "L_star(2)- L_star(Mx_sol)",
   "id": "ec9fbab6b3de41bc",
   "outputs": [
    {
     "data": {
      "text/plain": [
       "5.3500263694072325"
      ]
     },
     "execution_count": 28,
     "metadata": {},
     "output_type": "execute_result"
    }
   ],
   "execution_count": 28
  },
  {
   "metadata": {
    "ExecuteTime": {
     "end_time": "2024-09-24T22:14:49.071904Z",
     "start_time": "2024-09-24T22:14:49.052199Z"
    }
   },
   "cell_type": "code",
   "source": "L_star(My_sol)",
   "id": "79cd8c4bcac309f1",
   "outputs": [
    {
     "data": {
      "text/plain": [
       "5.449973630593113"
      ]
     },
     "execution_count": 29,
     "metadata": {},
     "output_type": "execute_result"
    }
   ],
   "execution_count": 29
  }
 ],
 "metadata": {
  "kernelspec": {
   "display_name": "Python 3",
   "language": "python",
   "name": "python3"
  },
  "language_info": {
   "codemirror_mode": {
    "name": "ipython",
    "version": 2
   },
   "file_extension": ".py",
   "mimetype": "text/x-python",
   "name": "python",
   "nbconvert_exporter": "python",
   "pygments_lexer": "ipython2",
   "version": "2.7.6"
  }
 },
 "nbformat": 4,
 "nbformat_minor": 5
}
